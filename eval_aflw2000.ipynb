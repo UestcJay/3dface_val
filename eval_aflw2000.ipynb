{
 "cells": [
  {
   "cell_type": "markdown",
   "metadata": {},
   "source": [
    "# Eval on AFLW2000-Reannotated and AFLW2000 datasets"
   ]
  },
  {
   "cell_type": "code",
   "execution_count": 1,
   "metadata": {
    "ExecuteTime": {
     "end_time": "2018-11-28T06:50:38.490105Z",
     "start_time": "2018-11-28T06:50:37.676476Z"
    }
   },
   "outputs": [],
   "source": [
    "import pickle\n",
    "from os.path import join\n",
    "import gzip\n",
    "import numpy as np\n",
    "import scipy.io as sio\n",
    "import cv2\n",
    "import torchfile\n",
    "from tqdm import tqdm\n",
    "\n",
    "def calcRoiBox(pts):\n",
    "    bbox = [min(pts[0,:]), min(pts[1,:]), max(pts[0,:]), max(pts[1,:])]\n",
    "    center = [(bbox[0] + bbox[2]) / 2, (bbox[1] + bbox[3]) / 2]\n",
    "    radius = max(bbox[2] - bbox[0], bbox[3] - bbox[1]) / 2\n",
    "    bbox = [center[0] - radius, center[1] - radius, center[0] + radius, center[1] + radius]\n",
    "    llength = np.sqrt((bbox[2] - bbox[0]) ** 2 + (bbox[3] - bbox[1]) ** 2)\n",
    "    center_x = (bbox[2] + bbox[0]) / 2\n",
    "    center_y = (bbox[3] + bbox[1]) / 2\n",
    "    roi_box = np.zeros((4,1))\n",
    "    roi_box[0] = np.round(center_x - llength / 2)\n",
    "    roi_box[1] = np.round(center_y - llength / 2)\n",
    "    roi_box[2] = roi_box[0] + llength\n",
    "    roi_box[3] = roi_box[1] + llength\n",
    "    roi_box = np.round(roi_box).astype(np.int).flatten()\n",
    "    return roi_box\n",
    "\n",
    "\n",
    "def ImageROI(img, roi):\n",
    "    height, width, nChannels = img.shape\n",
    "    sx = roi[0]\n",
    "    sy = roi[1]\n",
    "    ex = roi[2]\n",
    "    ey = roi[3]\n",
    "    temp = np.zeros((ey - sy + 1, ex - sx + 1, img.shape[2]))\n",
    "    if (sx < 0):\n",
    "        dsx = -sx\n",
    "        sx = 0\n",
    "    else:\n",
    "        dsx = 0\n",
    "\n",
    "    if (ex >= width):\n",
    "        dex = temp.shape[1] - (ex + 1 - width) - 1\n",
    "        ex = width - 1\n",
    "    else:\n",
    "        dex = temp.shape[1] - 1\n",
    "\n",
    "    if (sy < 0):\n",
    "        dsy = -sy\n",
    "        sy = 0\n",
    "    else:\n",
    "        dsy = 0\n",
    "\n",
    "    if (ey >= height):\n",
    "        dey = temp.shape[0] - (ey + 1 - height) - 1\n",
    "        ey = height - 1\n",
    "    else:\n",
    "        dey = temp.shape[0] - 1\n",
    "\n",
    "        \n",
    "    roi_box = np.array([sx, sy, ex, ey])\n",
    "    temp[dsy:dey + 1, dsx:dex + 1, :] = img[sy:ey + 1, sx:ex + 1, :]\n",
    "   \n",
    "    roi_img = np.copy(temp)\n",
    "    return roi_img, roi_box"
   ]
  },
  {
   "cell_type": "code",
   "execution_count": 2,
   "metadata": {
    "ExecuteTime": {
     "end_time": "2018-11-28T06:50:42.257413Z",
     "start_time": "2018-11-28T06:50:42.250170Z"
    }
   },
   "outputs": [],
   "source": [
    "def calc_nme(pts68_fit_all, pts68_gt_all, roi_boxs, option='re'):\n",
    "    if option == 'ori':\n",
    "        pts68_all = pts68_gt_all\n",
    "    elif option == 're':\n",
    "        pts68_all = pts68_gt_all\n",
    "    std_size = 120\n",
    "\n",
    "    nme_list = []\n",
    "\n",
    "    for i in range(len(pts68_all)):\n",
    "        pts68_fit = pts68_fit_all[i]\n",
    "        pts68_gt = pts68_all[i]\n",
    "\n",
    "        # build bbox\n",
    "        minx, maxx = np.min(pts68_gt[0, :]), np.max(pts68_gt[0, :])\n",
    "        miny, maxy = np.min(pts68_gt[1, :]), np.max(pts68_gt[1, :])\n",
    "        llength = np.sqrt((maxx - minx) * (maxy - miny))\n",
    "\n",
    "        #\n",
    "        dis = pts68_fit - pts68_gt[:2, :]\n",
    "        dis = np.sqrt(np.sum(np.power(dis, 2), 0))\n",
    "        dis = np.mean(dis)\n",
    "        nme = dis / llength\n",
    "        nme_list.append(nme)\n",
    "\n",
    "    nme_list = np.array(nme_list, dtype=np.float32)\n",
    "    return nme_list\n",
    "\n",
    "def ana(nme_list, yaws_list):\n",
    "    yaw_list_abs = np.abs(yaws_list)\n",
    "    ind_yaw_1 = yaw_list_abs <= 30\n",
    "    ind_yaw_2 = np.bitwise_and(yaw_list_abs > 30, yaw_list_abs <= 60)\n",
    "    ind_yaw_3 = yaw_list_abs > 60\n",
    "\n",
    "    nme_1 = nme_list[ind_yaw_1]\n",
    "    nme_2 = nme_list[ind_yaw_2]\n",
    "    nme_3 = nme_list[ind_yaw_3]\n",
    "\n",
    "    mean_nme_1 = np.mean(nme_1) * 100\n",
    "    mean_nme_2 = np.mean(nme_2) * 100\n",
    "    mean_nme_3 = np.mean(nme_3) * 100\n",
    "    # mean_nme_all = np.mean(nme_list) * 100\n",
    "\n",
    "    std_nme_1 = np.std(nme_1) * 100\n",
    "    std_nme_2 = np.std(nme_2) * 100\n",
    "    std_nme_3 = np.std(nme_3) * 100\n",
    "    # std_nme_all = np.std(nme_list) * 100\n",
    "\n",
    "    mean_all = [mean_nme_1, mean_nme_2, mean_nme_3]\n",
    "    mean = np.mean(nme_list) * 100\n",
    "    std = np.std(nme_list) * 100\n",
    "\n",
    "    s1 = '[ 0, 30]\\tMean: \\x1b[32m{:.3f}\\x1b[0m, Std: {:.3f}'.format(mean_nme_1, std_nme_1)\n",
    "    s2 = '[30, 60]\\tMean: \\x1b[32m{:.3f}\\x1b[0m, Std: {:.3f}'.format(mean_nme_2, std_nme_2)\n",
    "    s3 = '[60, 90]\\tMean: \\x1b[32m{:.3f}\\x1b[0m, Std: {:.3f}'.format(mean_nme_3, std_nme_3)\n",
    "    # s4 = '[ 0, 90]\\tMean: \\x1b[31m{:.3f}\\x1b[0m, Std: {:.3f}'.format(mean_nme_all, std_nme_all)\n",
    "    s5 = '[ 0, 90]\\tMean: \\x1b[31m{:.3f}\\x1b[0m, Std: \\x1b[31m{:.3f}\\x1b[0m'.format(mean, std)\n",
    "\n",
    "    s = '\\n'.join([s1, s2, s3, s5])\n",
    "    print(s)\n",
    "\n",
    "    return mean_nme_1, mean_nme_2, mean_nme_3, mean, std"
   ]
  },
  {
   "cell_type": "markdown",
   "metadata": {},
   "source": [
    "## Eval on AFLW2000-3D"
   ]
  },
  {
   "cell_type": "code",
   "execution_count": 3,
   "metadata": {
    "ExecuteTime": {
     "end_time": "2018-11-28T08:49:18.555363Z",
     "start_time": "2018-11-28T08:48:56.852212Z"
    }
   },
   "outputs": [
    {
     "name": "stderr",
     "output_type": "stream",
     "text": [
      "2000it [00:25, 78.94it/s]\n"
     ]
    },
    {
     "name": "stdout",
     "output_type": "stream",
     "text": [
      "[ 0, 30]\tMean: \u001b[32m2.286\u001b[0m, Std: 1.720\n",
      "[30, 60]\tMean: \u001b[32m2.903\u001b[0m, Std: 1.450\n",
      "[60, 90]\tMean: \u001b[32m4.318\u001b[0m, Std: 5.010\n",
      "[ 0, 90]\tMean: \u001b[31m2.714\u001b[0m, Std: \u001b[31m2.587\u001b[0m\n"
     ]
    },
    {
     "data": {
      "text/plain": [
       "(2.2864632308483124,\n",
       " 2.9029875993728638,\n",
       " 4.317837208509445,\n",
       " 2.7143118903040886,\n",
       " 2.586689405143261)"
      ]
     },
     "execution_count": 3,
     "metadata": {},
     "output_type": "execute_result"
    }
   ],
   "source": [
    "with gzip.open(\"yaws_list.zip\", 'rb') as f:\n",
    "    buffer = f.read()\n",
    "files, yaws_list = pickle.loads(buffer)\n",
    "\n",
    "pred_folder = 'out/AFLW2000-3D'\n",
    "input_folder = 'data/AFLW2000/'\n",
    "outputs = []\n",
    "gt_boxes = []\n",
    "gt_pts = []\n",
    "for idx, filename in tqdm(enumerate(files)):\n",
    "    try:\n",
    "        with gzip.open(join(pred_folder, filename + '.zip'), 'rb') as f:\n",
    "            buffer = f.read()\n",
    "        pred = pickle.loads(buffer)\n",
    "    except Exception as e:\n",
    "        print(e)\n",
    "        yaws_list = np.delete(yaws_list, idx)\n",
    "        continue\n",
    "    outputs.append(pred.T)\n",
    "    pts_file = input_folder + filename[:-4] + '.mat'\n",
    "    gt = sio.loadmat(pts_file)['pt3d_68']\n",
    "    gt_pts.append(gt)\n",
    "    img = cv2.imread(input_folder + filename)\n",
    "    roi_box = calcRoiBox(gt)\n",
    "    roi_img, roi_box = ImageROI(img, roi_box)\n",
    "    gt_boxes.append(np.array(roi_box))\n",
    "nme_list = calc_nme(outputs, gt_pts, gt_boxes)\n",
    "ana(nme_list, yaws_list)"
   ]
  },
  {
   "cell_type": "markdown",
   "metadata": {},
   "source": [
    "## Eval on AFLW2000-3D Reannotated"
   ]
  },
  {
   "cell_type": "code",
   "execution_count": 4,
   "metadata": {
    "ExecuteTime": {
     "end_time": "2018-11-28T08:50:27.907894Z",
     "start_time": "2018-11-28T08:49:18.556563Z"
    }
   },
   "outputs": [
    {
     "name": "stdout",
     "output_type": "stream",
     "text": [
      "[Errno 2] No such file or directory: 'data/AFLW2000-3D-Reannotated/image00188.t7'\n",
      "[Errno 2] No such file or directory: 'data/AFLW2000-3D-Reannotated/image03162.t7'\n",
      "[ 0, 30]\tMean: \u001b[32m1.592\u001b[0m, Std: 2.019\n",
      "[30, 60]\tMean: \u001b[32m1.755\u001b[0m, Std: 0.952\n",
      "[60, 90]\tMean: \u001b[32m3.156\u001b[0m, Std: 4.372\n",
      "[ 0, 90]\tMean: \u001b[31m1.860\u001b[0m, Std: \u001b[31m2.460\u001b[0m\n"
     ]
    },
    {
     "data": {
      "text/plain": [
       "(1.591581478714943,\n",
       " 1.7552752047777176,\n",
       " 3.1558167189359665,\n",
       " 1.8601788207888603,\n",
       " 2.4602575227618217)"
      ]
     },
     "execution_count": 4,
     "metadata": {},
     "output_type": "execute_result"
    }
   ],
   "source": [
    "with gzip.open(\"yaws_list.zip\", 'rb') as f:\n",
    "    buffer = f.read()\n",
    "files, yaws_list = pickle.loads(buffer)\n",
    "\n",
    "pred_folder = 'out/AFLW2000-3D-Reannotated/'\n",
    "input_folder = 'data/AFLW2000-3D-Reannotated/'\n",
    "outputs = []\n",
    "gt_boxes = []\n",
    "gt_pts = []\n",
    "for idx, filename in enumerate(files):\n",
    "    pts_file = input_folder + filename[:-4] + '.t7'\n",
    "    try:\n",
    "        gt = torchfile.load(pts_file)\n",
    "    except Exception as e:\n",
    "        print(e)\n",
    "        yaws_list = np.delete(yaws_list, idx)\n",
    "        continue\n",
    "    gt = gt.T\n",
    "    gt_pts.append(np.array(gt, dtype=np.float32))\n",
    "    img = cv2.imread(input_folder + filename)\n",
    "    roi_box = calcRoiBox(gt)\n",
    "    roi_img, roi_box = ImageROI(img, roi_box)\n",
    "    gt_boxes.append(np.array(roi_box))\n",
    "    try:\n",
    "        with gzip.open(pred_folder + filename + '.zip', 'rb') as f:\n",
    "            buffer = f.read()\n",
    "        pred = pickle.loads(buffer)\n",
    "    except Exception as e:\n",
    "        print(e)\n",
    "        yaws_list = np.delete(yaws_list, idx)\n",
    "        continue\n",
    "    outputs.append(pred.T)\n",
    "nme_list = calc_nme(outputs, gt_pts, gt_boxes)\n",
    "ana(nme_list, yaws_list)"
   ]
  },
  {
   "cell_type": "code",
   "execution_count": null,
   "metadata": {},
   "outputs": [],
   "source": []
  }
 ],
 "metadata": {
  "kernelspec": {
   "display_name": "Python 3",
   "language": "python",
   "name": "python3"
  },
  "language_info": {
   "codemirror_mode": {
    "name": "ipython",
    "version": 3
   },
   "file_extension": ".py",
   "mimetype": "text/x-python",
   "name": "python",
   "nbconvert_exporter": "python",
   "pygments_lexer": "ipython3",
   "version": "3.6.8"
  },
  "toc": {
   "base_numbering": 1,
   "nav_menu": {},
   "number_sections": true,
   "sideBar": true,
   "skip_h1_title": false,
   "title_cell": "Table of Contents",
   "title_sidebar": "Contents",
   "toc_cell": false,
   "toc_position": {},
   "toc_section_display": true,
   "toc_window_display": true
  }
 },
 "nbformat": 4,
 "nbformat_minor": 2
}
