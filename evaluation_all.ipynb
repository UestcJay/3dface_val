{
 "cells": [
  {
   "cell_type": "code",
   "execution_count": 1,
   "metadata": {
    "ExecuteTime": {
     "end_time": "2018-12-29T13:19:09.201508Z",
     "start_time": "2018-12-29T13:17:58.568148Z"
    },
    "scrolled": true
   },
   "outputs": [],
   "source": [
    "import time\n",
    "import sys\n",
    "import os\n",
    "from os import listdir, makedirs\n",
    "from os.path import isfile, join, isdir\n",
    "import pickle\n",
    "import gzip\n",
    "\n",
    "import numpy as np\n",
    "import torchfile\n",
    "import matplotlib.pylab as plt\n",
    "import matplotlib\n",
    "import scipy.io as sio\n",
    "from tqdm import tqdm\n",
    "\n",
    "\n",
    "def getBBsize(points):\n",
    "    mins = points.min(axis=0)\n",
    "    maxs = points.max(axis=0)\n",
    "    bbsize = maxs - mins\n",
    "    normby = np.sqrt(bbsize[0] * bbsize[1])\n",
    "    return np.sqrt(bbsize[0] * bbsize[1])\n",
    "\n",
    "\n",
    "def calcDistance(pred, gt_pts):\n",
    "    bbsize = getBBsize(gt_pts)\n",
    "    return np.linalg.norm(pred - gt_pts, axis=1) / bbsize\n",
    "\n",
    "\n",
    "def calculateMetrics(dists, error_np):\n",
    "    errors = np.mean(dists, axis=0)\n",
    "    np.save(error_np, errors)\n",
    "    axes1 = np.linspace(0, 1, 1000)\n",
    "    axes2 = np.zeros(1000)\n",
    "    for i in range(1000):\n",
    "        axes2[i] = (errors < axes1[i]).sum() / float(errors.shape[0])\n",
    "    auc = np.sum(axes2[:70]) / 70\n",
    "    return auc, np.mean(errors), np.std(errors)"
   ]
  },
  {
   "cell_type": "code",
   "execution_count": 2,
   "metadata": {},
   "outputs": [
    {
     "name": "stderr",
     "output_type": "stream",
     "text": [
      "0it [00:00, ?it/s]"
     ]
    },
    {
     "name": "stdout",
     "output_type": "stream",
     "text": [
      "Dataset: Menpo-3D\n"
     ]
    },
    {
     "name": "stderr",
     "output_type": "stream",
     "text": [
      "8955it [00:10, 874.17it/s]\n",
      "262it [00:00, 2613.81it/s]"
     ]
    },
    {
     "name": "stdout",
     "output_type": "stream",
     "text": [
      "Dataset: 300W-Testset-3D\n"
     ]
    },
    {
     "name": "stderr",
     "output_type": "stream",
     "text": [
      "600it [00:00, 2478.05it/s]\n",
      "232it [00:00, 2315.55it/s]"
     ]
    },
    {
     "name": "stdout",
     "output_type": "stream",
     "text": [
      "Dataset: AFLW2000-3D-Reannotated\n"
     ]
    },
    {
     "name": "stderr",
     "output_type": "stream",
     "text": [
      "1998it [00:00, 2226.17it/s]\n",
      "205it [00:00, 2047.19it/s]"
     ]
    },
    {
     "name": "stdout",
     "output_type": "stream",
     "text": [
      "Dataset: AFLW2000-3D\n"
     ]
    },
    {
     "name": "stderr",
     "output_type": "stream",
     "text": [
      "2000it [00:01, 1901.43it/s]\n"
     ]
    },
    {
     "name": "stdout",
     "output_type": "stream",
     "text": [
      "Dataset: 300VW-A\n"
     ]
    },
    {
     "name": "stderr",
     "output_type": "stream",
     "text": [
      "18916it [00:18, 564.28it/s]"
     ]
    },
    {
     "name": "stdout",
     "output_type": "stream",
     "text": [
      "Do not have groundtruth.\n",
      "Exception: [Errno 2] No such file or directory: 'data/CatA/402/1028.t7'\n",
      "Do not have groundtruth.\n",
      "Exception: [Errno 2] No such file or directory: 'data/CatA/402/1031.t7'\n",
      "Do not have groundtruth.\n",
      "Exception: [Errno 2] No such file or directory: 'data/CatA/402/1037.t7'\n"
     ]
    },
    {
     "name": "stderr",
     "output_type": "stream",
     "text": [
      "29419it [04:21, 33.10it/s]"
     ]
    },
    {
     "name": "stdout",
     "output_type": "stream",
     "text": [
      "Do not have groundtruth.\n",
      "Exception: [Errno 2] No such file or directory: 'data/CatA/509/0837.t7'\n"
     ]
    },
    {
     "name": "stderr",
     "output_type": "stream",
     "text": [
      "29449it [04:21, 48.07it/s]"
     ]
    },
    {
     "name": "stdout",
     "output_type": "stream",
     "text": [
      "Do not have groundtruth.\n",
      "Exception: [Errno 2] No such file or directory: 'data/CatA/509/0866.t7'\n",
      "Do not have groundtruth.\n",
      "Exception: [Errno 2] No such file or directory: 'data/CatA/509/0867.t7'\n",
      "Do not have groundtruth.\n",
      "Exception: [Errno 2] No such file or directory: 'data/CatA/509/0868.t7'\n",
      "Do not have groundtruth.\n",
      "Exception: [Errno 2] No such file or directory: 'data/CatA/509/0869.t7'\n",
      "Do not have groundtruth.\n",
      "Exception: [Errno 2] No such file or directory: 'data/CatA/509/0870.t7'\n"
     ]
    },
    {
     "name": "stderr",
     "output_type": "stream",
     "text": [
      "29553it [04:24, 40.32it/s]"
     ]
    },
    {
     "name": "stdout",
     "output_type": "stream",
     "text": [
      "Do not have groundtruth.\n",
      "Exception: [Errno 2] No such file or directory: 'data/CatA/509/0971.t7'\n"
     ]
    },
    {
     "name": "stderr",
     "output_type": "stream",
     "text": [
      "29577it [04:24, 46.68it/s]"
     ]
    },
    {
     "name": "stdout",
     "output_type": "stream",
     "text": [
      "Do not have groundtruth.\n",
      "Exception: [Errno 2] No such file or directory: 'data/CatA/509/0993.t7'\n",
      "Do not have groundtruth.\n",
      "Exception: [Errno 2] No such file or directory: 'data/CatA/509/0994.t7'\n"
     ]
    },
    {
     "name": "stderr",
     "output_type": "stream",
     "text": [
      "29777it [04:30, 40.80it/s]"
     ]
    },
    {
     "name": "stdout",
     "output_type": "stream",
     "text": [
      "Do not have groundtruth.\n",
      "Exception: [Errno 2] No such file or directory: 'data/CatA/509/1193.t7'\n"
     ]
    },
    {
     "name": "stderr",
     "output_type": "stream",
     "text": [
      "29814it [04:31, 39.88it/s]"
     ]
    },
    {
     "name": "stdout",
     "output_type": "stream",
     "text": [
      "Do not have groundtruth.\n",
      "Exception: [Errno 2] No such file or directory: 'data/CatA/509/1228.t7'\n",
      "Do not have groundtruth.\n",
      "Exception: [Errno 2] No such file or directory: 'data/CatA/509/1229.t7'\n"
     ]
    },
    {
     "name": "stderr",
     "output_type": "stream",
     "text": [
      "29869it [04:32, 49.25it/s]"
     ]
    },
    {
     "name": "stdout",
     "output_type": "stream",
     "text": [
      "Do not have groundtruth.\n",
      "Exception: [Errno 2] No such file or directory: 'data/CatA/509/1283.t7'\n",
      "Do not have groundtruth.\n",
      "Exception: [Errno 2] No such file or directory: 'data/CatA/509/1284.t7'\n",
      "Do not have groundtruth.\n",
      "Exception: [Errno 2] No such file or directory: 'data/CatA/509/1286.t7'\n",
      "Do not have groundtruth.\n",
      "Exception: [Errno 2] No such file or directory: 'data/CatA/509/1287.t7'\n",
      "Do not have groundtruth.\n",
      "Exception: [Errno 2] No such file or directory: 'data/CatA/509/1289.t7'\n"
     ]
    },
    {
     "name": "stderr",
     "output_type": "stream",
     "text": [
      "30859it [05:21, 21.70it/s]"
     ]
    },
    {
     "name": "stdout",
     "output_type": "stream",
     "text": [
      "Do not have groundtruth.\n",
      "Exception: [Errno 2] No such file or directory: 'data/CatA/510/0357.t7'\n",
      "Do not have groundtruth.\n",
      "Exception: [Errno 2] No such file or directory: 'data/CatA/510/0358.t7'\n",
      "Do not have groundtruth.\n",
      "Exception: [Errno 2] No such file or directory: 'data/CatA/510/0359.t7'\n",
      "Do not have groundtruth.\n",
      "Exception: [Errno 2] No such file or directory: 'data/CatA/510/0360.t7'\n",
      "Do not have groundtruth.\n",
      "Exception: [Errno 2] No such file or directory: 'data/CatA/510/0362.t7'\n",
      "Do not have groundtruth.\n",
      "Exception: [Errno 2] No such file or directory: 'data/CatA/510/0363.t7'\n"
     ]
    },
    {
     "name": "stderr",
     "output_type": "stream",
     "text": [
      "30887it [05:22, 21.65it/s]"
     ]
    },
    {
     "name": "stdout",
     "output_type": "stream",
     "text": [
      "Do not have groundtruth.\n",
      "Exception: [Errno 2] No such file or directory: 'data/CatA/510/0383.t7'\n",
      "Do not have groundtruth.\n",
      "Exception: [Errno 2] No such file or directory: 'data/CatA/510/0384.t7'\n",
      "Do not have groundtruth.\n",
      "Exception: [Errno 2] No such file or directory: 'data/CatA/510/0386.t7'\n",
      "Do not have groundtruth.\n",
      "Exception: [Errno 2] No such file or directory: 'data/CatA/510/0387.t7'\n",
      "Do not have groundtruth.\n",
      "Exception: [Errno 2] No such file or directory: 'data/CatA/510/0388.t7'\n",
      "Do not have groundtruth.\n",
      "Exception: [Errno 2] No such file or directory: 'data/CatA/510/0389.t7'\n",
      "Do not have groundtruth.\n",
      "Exception: [Errno 2] No such file or directory: 'data/CatA/510/0390.t7'\n"
     ]
    },
    {
     "name": "stderr",
     "output_type": "stream",
     "text": [
      "39081it [13:05, 25.29it/s]"
     ]
    },
    {
     "name": "stdout",
     "output_type": "stream",
     "text": [
      "Do not have groundtruth.\n",
      "Exception: [Errno 2] No such file or directory: 'data/CatA/518/0475.t7'\n",
      "Do not have groundtruth.\n",
      "Exception: [Errno 2] No such file or directory: 'data/CatA/518/0476.t7'\n",
      "Do not have groundtruth.\n",
      "Exception: [Errno 2] No such file or directory: 'data/CatA/518/0477.t7'\n",
      "Do not have groundtruth.\n",
      "Exception: [Errno 2] No such file or directory: 'data/CatA/518/0478.t7'\n",
      "Do not have groundtruth.\n",
      "Exception: [Errno 2] No such file or directory: 'data/CatA/518/0479.t7'\n",
      "Do not have groundtruth.\n",
      "Exception: [Errno 2] No such file or directory: 'data/CatA/518/0480.t7'\n",
      "Do not have groundtruth.\n",
      "Exception: [Errno 2] No such file or directory: 'data/CatA/518/0481.t7'\n",
      "Do not have groundtruth.\n",
      "Exception: [Errno 2] No such file or directory: 'data/CatA/518/0482.t7'\n",
      "Do not have groundtruth.\n",
      "Exception: [Errno 2] No such file or directory: 'data/CatA/518/0483.t7'\n",
      "Do not have groundtruth.\n",
      "Exception: [Errno 2] No such file or directory: 'data/CatA/518/0484.t7'\n",
      "Do not have groundtruth.\n",
      "Exception: [Errno 2] No such file or directory: 'data/CatA/518/0485.t7'\n",
      "Do not have groundtruth.\n",
      "Exception: [Errno 2] No such file or directory: 'data/CatA/518/0486.t7'\n",
      "Do not have groundtruth.\n",
      "Exception: [Errno 2] No such file or directory: 'data/CatA/518/0487.t7'\n",
      "Do not have groundtruth.\n",
      "Exception: [Errno 2] No such file or directory: 'data/CatA/518/0488.t7'\n",
      "Do not have groundtruth.\n",
      "Exception: [Errno 2] No such file or directory: 'data/CatA/518/0489.t7'\n",
      "Do not have groundtruth.\n",
      "Exception: [Errno 2] No such file or directory: 'data/CatA/518/0490.t7'\n",
      "Do not have groundtruth.\n",
      "Exception: [Errno 2] No such file or directory: 'data/CatA/518/0491.t7'\n",
      "Do not have groundtruth.\n",
      "Exception: [Errno 2] No such file or directory: 'data/CatA/518/0492.t7'\n",
      "Do not have groundtruth.\n",
      "Exception: [Errno 2] No such file or directory: 'data/CatA/518/0493.t7'\n",
      "Do not have groundtruth.\n",
      "Exception: [Errno 2] No such file or directory: 'data/CatA/518/0494.t7'\n",
      "Do not have groundtruth.\n",
      "Exception: [Errno 2] No such file or directory: 'data/CatA/518/0495.t7'\n",
      "Do not have groundtruth.\n",
      "Exception: [Errno 2] No such file or directory: 'data/CatA/518/0496.t7'\n",
      "Do not have groundtruth.\n",
      "Exception: [Errno 2] No such file or directory: 'data/CatA/518/0497.t7'\n",
      "Do not have groundtruth.\n",
      "Exception: [Errno 2] No such file or directory: 'data/CatA/518/0498.t7'\n",
      "Do not have groundtruth.\n",
      "Exception: [Errno 2] No such file or directory: 'data/CatA/518/0499.t7'\n",
      "Do not have groundtruth.\n",
      "Exception: [Errno 2] No such file or directory: 'data/CatA/518/0500.t7'\n",
      "Do not have groundtruth.\n",
      "Exception: [Errno 2] No such file or directory: 'data/CatA/518/0501.t7'\n",
      "Do not have groundtruth.\n",
      "Exception: [Errno 2] No such file or directory: 'data/CatA/518/0502.t7'\n",
      "Do not have groundtruth.\n",
      "Exception: [Errno 2] No such file or directory: 'data/CatA/518/0503.t7'\n"
     ]
    },
    {
     "name": "stderr",
     "output_type": "stream",
     "text": [
      "39107it [13:05, 42.71it/s]"
     ]
    },
    {
     "name": "stdout",
     "output_type": "stream",
     "text": [
      "Do not have groundtruth.\n",
      "Exception: [Errno 2] No such file or directory: 'data/CatA/518/0504.t7'\n",
      "Do not have groundtruth.\n",
      "Exception: [Errno 2] No such file or directory: 'data/CatA/518/0505.t7'\n",
      "Do not have groundtruth.\n",
      "Exception: [Errno 2] No such file or directory: 'data/CatA/518/0506.t7'\n",
      "Do not have groundtruth.\n",
      "Exception: [Errno 2] No such file or directory: 'data/CatA/518/0507.t7'\n",
      "Do not have groundtruth.\n",
      "Exception: [Errno 2] No such file or directory: 'data/CatA/518/0508.t7'\n",
      "Do not have groundtruth.\n",
      "Exception: [Errno 2] No such file or directory: 'data/CatA/518/0509.t7'\n",
      "Do not have groundtruth.\n",
      "Exception: [Errno 2] No such file or directory: 'data/CatA/518/0510.t7'\n",
      "Do not have groundtruth.\n",
      "Exception: [Errno 2] No such file or directory: 'data/CatA/518/0511.t7'\n",
      "Do not have groundtruth.\n",
      "Exception: [Errno 2] No such file or directory: 'data/CatA/518/0512.t7'\n",
      "Do not have groundtruth.\n",
      "Exception: [Errno 2] No such file or directory: 'data/CatA/518/0513.t7'\n",
      "Do not have groundtruth.\n",
      "Exception: [Errno 2] No such file or directory: 'data/CatA/518/0514.t7'\n",
      "Do not have groundtruth.\n",
      "Exception: [Errno 2] No such file or directory: 'data/CatA/518/0515.t7'\n",
      "Do not have groundtruth.\n",
      "Exception: [Errno 2] No such file or directory: 'data/CatA/518/0516.t7'\n",
      "Do not have groundtruth.\n",
      "Exception: [Errno 2] No such file or directory: 'data/CatA/518/0517.t7'\n",
      "Do not have groundtruth.\n",
      "Exception: [Errno 2] No such file or directory: 'data/CatA/518/0518.t7'\n",
      "Do not have groundtruth.\n",
      "Exception: [Errno 2] No such file or directory: 'data/CatA/518/0521.t7'\n"
     ]
    },
    {
     "name": "stderr",
     "output_type": "stream",
     "text": [
      "39633it [13:35, 20.49it/s]"
     ]
    },
    {
     "name": "stdout",
     "output_type": "stream",
     "text": [
      "Do not have groundtruth.\n",
      "Exception: [Errno 2] No such file or directory: 'data/CatA/518/1041.t7'\n"
     ]
    },
    {
     "name": "stderr",
     "output_type": "stream",
     "text": [
      "39881it [13:49, 21.52it/s]"
     ]
    },
    {
     "name": "stdout",
     "output_type": "stream",
     "text": [
      "Do not have groundtruth.\n",
      "Exception: [Errno 2] No such file or directory: 'data/CatA/518/1286.t7'\n",
      "Do not have groundtruth.\n",
      "Exception: [Errno 2] No such file or directory: 'data/CatA/518/1289.t7'\n"
     ]
    },
    {
     "name": "stderr",
     "output_type": "stream",
     "text": [
      "40195it [14:06, 12.20it/s]"
     ]
    },
    {
     "name": "stdout",
     "output_type": "stream",
     "text": [
      "Do not have groundtruth.\n",
      "Exception: [Errno 2] No such file or directory: 'data/CatA/518/1602.t7'\n",
      "Do not have groundtruth.\n",
      "Exception: [Errno 2] No such file or directory: 'data/CatA/518/1605.t7'\n"
     ]
    },
    {
     "name": "stderr",
     "output_type": "stream",
     "text": [
      "40224it [14:06, 25.81it/s]"
     ]
    },
    {
     "name": "stdout",
     "output_type": "stream",
     "text": [
      "Do not have groundtruth.\n",
      "Exception: [Errno 2] No such file or directory: 'data/CatA/518/1610.t7'\n",
      "Do not have groundtruth.\n",
      "Exception: [Errno 2] No such file or directory: 'data/CatA/518/1611.t7'\n",
      "Do not have groundtruth.\n",
      "Exception: [Errno 2] No such file or directory: 'data/CatA/518/1612.t7'\n",
      "Do not have groundtruth.\n",
      "Exception: [Errno 2] No such file or directory: 'data/CatA/518/1613.t7'\n",
      "Do not have groundtruth.\n",
      "Exception: [Errno 2] No such file or directory: 'data/CatA/518/1614.t7'\n",
      "Do not have groundtruth.\n",
      "Exception: [Errno 2] No such file or directory: 'data/CatA/518/1615.t7'\n",
      "Do not have groundtruth.\n",
      "Exception: [Errno 2] No such file or directory: 'data/CatA/518/1616.t7'\n",
      "Do not have groundtruth.\n",
      "Exception: [Errno 2] No such file or directory: 'data/CatA/518/1617.t7'\n",
      "Do not have groundtruth.\n",
      "Exception: [Errno 2] No such file or directory: 'data/CatA/518/1618.t7'\n",
      "Do not have groundtruth.\n",
      "Exception: [Errno 2] No such file or directory: 'data/CatA/518/1619.t7'\n",
      "Do not have groundtruth.\n",
      "Exception: [Errno 2] No such file or directory: 'data/CatA/518/1620.t7'\n",
      "Do not have groundtruth.\n",
      "Exception: [Errno 2] No such file or directory: 'data/CatA/518/1621.t7'\n",
      "Do not have groundtruth.\n",
      "Exception: [Errno 2] No such file or directory: 'data/CatA/518/1622.t7'\n",
      "Do not have groundtruth.\n",
      "Exception: [Errno 2] No such file or directory: 'data/CatA/518/1623.t7'\n",
      "Do not have groundtruth.\n",
      "Exception: [Errno 2] No such file or directory: 'data/CatA/518/1624.t7'\n",
      "Do not have groundtruth.\n",
      "Exception: [Errno 2] No such file or directory: 'data/CatA/518/1625.t7'\n",
      "Do not have groundtruth.\n",
      "Exception: [Errno 2] No such file or directory: 'data/CatA/518/1626.t7'\n",
      "Do not have groundtruth.\n",
      "Exception: [Errno 2] No such file or directory: 'data/CatA/518/1627.t7'\n",
      "Do not have groundtruth.\n",
      "Exception: [Errno 2] No such file or directory: 'data/CatA/518/1628.t7'\n",
      "Do not have groundtruth.\n",
      "Exception: [Errno 2] No such file or directory: 'data/CatA/518/1629.t7'\n",
      "Do not have groundtruth.\n",
      "Exception: [Errno 2] No such file or directory: 'data/CatA/518/1630.t7'\n",
      "Do not have groundtruth.\n",
      "Exception: [Errno 2] No such file or directory: 'data/CatA/518/1631.t7'\n",
      "Do not have groundtruth.\n",
      "Exception: [Errno 2] No such file or directory: 'data/CatA/518/1632.t7'\n",
      "Do not have groundtruth.\n",
      "Exception: [Errno 2] No such file or directory: 'data/CatA/518/1633.t7'\n"
     ]
    },
    {
     "name": "stderr",
     "output_type": "stream",
     "text": [
      "40232it [14:07, 26.92it/s]"
     ]
    },
    {
     "name": "stdout",
     "output_type": "stream",
     "text": [
      "Do not have groundtruth.\n",
      "Exception: [Errno 2] No such file or directory: 'data/CatA/518/1635.t7'\n",
      "Do not have groundtruth.\n",
      "Exception: [Errno 2] No such file or directory: 'data/CatA/518/1636.t7'\n",
      "Do not have groundtruth.\n",
      "Exception: [Errno 2] No such file or directory: 'data/CatA/518/1638.t7'\n",
      "Do not have groundtruth.\n",
      "Exception: [Errno 2] No such file or directory: 'data/CatA/518/1639.t7'\n"
     ]
    },
    {
     "name": "stderr",
     "output_type": "stream",
     "text": [
      "40341it [14:10, 32.57it/s]"
     ]
    },
    {
     "name": "stdout",
     "output_type": "stream",
     "text": [
      "Do not have groundtruth.\n",
      "Exception: [Errno 2] No such file or directory: 'data/CatA/518/1707.t7'\n",
      "Do not have groundtruth.\n",
      "Exception: [Errno 2] No such file or directory: 'data/CatA/518/1708.t7'\n",
      "Do not have groundtruth.\n",
      "Exception: [Errno 2] No such file or directory: 'data/CatA/518/1709.t7'\n",
      "Do not have groundtruth.\n",
      "Exception: [Errno 2] No such file or directory: 'data/CatA/518/1710.t7'\n",
      "Do not have groundtruth.\n",
      "Exception: [Errno 2] No such file or directory: 'data/CatA/518/1711.t7'\n",
      "Do not have groundtruth.\n",
      "Exception: [Errno 2] No such file or directory: 'data/CatA/518/1712.t7'\n",
      "Do not have groundtruth.\n",
      "Exception: [Errno 2] No such file or directory: 'data/CatA/518/1713.t7'\n",
      "Do not have groundtruth.\n",
      "Exception: [Errno 2] No such file or directory: 'data/CatA/518/1714.t7'\n",
      "Do not have groundtruth.\n",
      "Exception: [Errno 2] No such file or directory: 'data/CatA/518/1715.t7'\n",
      "Do not have groundtruth.\n",
      "Exception: [Errno 2] No such file or directory: 'data/CatA/518/1716.t7'\n",
      "Do not have groundtruth.\n",
      "Exception: [Errno 2] No such file or directory: 'data/CatA/518/1717.t7'\n",
      "Do not have groundtruth.\n",
      "Exception: [Errno 2] No such file or directory: 'data/CatA/518/1718.t7'\n",
      "Do not have groundtruth.\n",
      "Exception: [Errno 2] No such file or directory: 'data/CatA/518/1719.t7'\n",
      "Do not have groundtruth.\n",
      "Exception: [Errno 2] No such file or directory: 'data/CatA/518/1720.t7'\n",
      "Do not have groundtruth.\n",
      "Exception: [Errno 2] No such file or directory: 'data/CatA/518/1721.t7'\n",
      "Do not have groundtruth.\n",
      "Exception: [Errno 2] No such file or directory: 'data/CatA/518/1722.t7'\n",
      "Do not have groundtruth.\n",
      "Exception: [Errno 2] No such file or directory: 'data/CatA/518/1723.t7'\n",
      "Do not have groundtruth.\n",
      "Exception: [Errno 2] No such file or directory: 'data/CatA/518/1724.t7'\n",
      "Do not have groundtruth.\n",
      "Exception: [Errno 2] No such file or directory: 'data/CatA/518/1725.t7'\n",
      "Do not have groundtruth.\n",
      "Exception: [Errno 2] No such file or directory: 'data/CatA/518/1726.t7'\n",
      "Do not have groundtruth.\n",
      "Exception: [Errno 2] No such file or directory: 'data/CatA/518/1727.t7'\n",
      "Do not have groundtruth.\n",
      "Exception: [Errno 2] No such file or directory: 'data/CatA/518/1728.t7'\n",
      "Do not have groundtruth.\n",
      "Exception: [Errno 2] No such file or directory: 'data/CatA/518/1729.t7'\n",
      "Do not have groundtruth.\n",
      "Exception: [Errno 2] No such file or directory: 'data/CatA/518/1730.t7'\n",
      "Do not have groundtruth.\n",
      "Exception: [Errno 2] No such file or directory: 'data/CatA/518/1731.t7'\n",
      "Do not have groundtruth.\n",
      "Exception: [Errno 2] No such file or directory: 'data/CatA/518/1732.t7'\n",
      "Do not have groundtruth.\n",
      "Exception: [Errno 2] No such file or directory: 'data/CatA/518/1733.t7'\n",
      "Do not have groundtruth.\n",
      "Exception: [Errno 2] No such file or directory: 'data/CatA/518/1734.t7'\n",
      "Do not have groundtruth.\n",
      "Exception: [Errno 2] No such file or directory: 'data/CatA/518/1735.t7'\n",
      "Do not have groundtruth.\n",
      "Exception: [Errno 2] No such file or directory: 'data/CatA/518/1736.t7'\n",
      "Do not have groundtruth.\n",
      "Exception: [Errno 2] No such file or directory: 'data/CatA/518/1737.t7'\n",
      "Do not have groundtruth.\n",
      "Exception: [Errno 2] No such file or directory: 'data/CatA/518/1738.t7'\n",
      "Do not have groundtruth.\n",
      "Exception: [Errno 2] No such file or directory: 'data/CatA/518/1739.t7'\n",
      "Do not have groundtruth.\n",
      "Exception: [Errno 2] No such file or directory: 'data/CatA/518/1740.t7'\n",
      "Do not have groundtruth.\n",
      "Exception: [Errno 2] No such file or directory: 'data/CatA/518/1741.t7'\n",
      "Do not have groundtruth.\n",
      "Exception: [Errno 2] No such file or directory: 'data/CatA/518/1742.t7'\n",
      "Do not have groundtruth.\n",
      "Exception: [Errno 2] No such file or directory: 'data/CatA/518/1743.t7'\n",
      "Do not have groundtruth.\n",
      "Exception: [Errno 2] No such file or directory: 'data/CatA/518/1744.t7'\n",
      "Do not have groundtruth.\n",
      "Exception: [Errno 2] No such file or directory: 'data/CatA/518/1745.t7'\n",
      "Do not have groundtruth.\n",
      "Exception: [Errno 2] No such file or directory: 'data/CatA/518/1746.t7'\n",
      "Do not have groundtruth.\n",
      "Exception: [Errno 2] No such file or directory: 'data/CatA/518/1747.t7'\n",
      "Do not have groundtruth.\n",
      "Exception: [Errno 2] No such file or directory: 'data/CatA/518/1748.t7'\n",
      "Do not have groundtruth.\n",
      "Exception: [Errno 2] No such file or directory: 'data/CatA/518/1749.t7'\n",
      "Do not have groundtruth.\n",
      "Exception: [Errno 2] No such file or directory: 'data/CatA/518/1750.t7'\n"
     ]
    },
    {
     "name": "stderr",
     "output_type": "stream",
     "text": [
      "40359it [14:10, 42.86it/s]"
     ]
    },
    {
     "name": "stdout",
     "output_type": "stream",
     "text": [
      "Do not have groundtruth.\n",
      "Exception: [Errno 2] No such file or directory: 'data/CatA/518/1751.t7'\n",
      "Do not have groundtruth.\n",
      "Exception: [Errno 2] No such file or directory: 'data/CatA/518/1752.t7'\n",
      "Do not have groundtruth.\n",
      "Exception: [Errno 2] No such file or directory: 'data/CatA/518/1753.t7'\n",
      "Do not have groundtruth.\n",
      "Exception: [Errno 2] No such file or directory: 'data/CatA/518/1754.t7'\n",
      "Do not have groundtruth.\n",
      "Exception: [Errno 2] No such file or directory: 'data/CatA/518/1755.t7'\n",
      "Do not have groundtruth.\n",
      "Exception: [Errno 2] No such file or directory: 'data/CatA/518/1756.t7'\n",
      "Do not have groundtruth.\n",
      "Exception: [Errno 2] No such file or directory: 'data/CatA/518/1757.t7'\n",
      "Do not have groundtruth.\n",
      "Exception: [Errno 2] No such file or directory: 'data/CatA/518/1758.t7'\n",
      "Do not have groundtruth.\n",
      "Exception: [Errno 2] No such file or directory: 'data/CatA/518/1759.t7'\n",
      "Do not have groundtruth.\n",
      "Exception: [Errno 2] No such file or directory: 'data/CatA/518/1760.t7'\n",
      "Do not have groundtruth.\n",
      "Exception: [Errno 2] No such file or directory: 'data/CatA/518/1761.t7'\n",
      "Do not have groundtruth.\n",
      "Exception: [Errno 2] No such file or directory: 'data/CatA/518/1762.t7'\n",
      "Do not have groundtruth.\n",
      "Exception: [Errno 2] No such file or directory: 'data/CatA/518/1763.t7'\n",
      "Do not have groundtruth.\n",
      "Exception: [Errno 2] No such file or directory: 'data/CatA/518/1764.t7'\n",
      "Do not have groundtruth.\n",
      "Exception: [Errno 2] No such file or directory: 'data/CatA/518/1765.t7'\n",
      "Do not have groundtruth.\n",
      "Exception: [Errno 2] No such file or directory: 'data/CatA/518/1766.t7'\n",
      "Do not have groundtruth.\n",
      "Exception: [Errno 2] No such file or directory: 'data/CatA/518/1767.t7'\n",
      "Do not have groundtruth.\n",
      "Exception: [Errno 2] No such file or directory: 'data/CatA/518/1770.t7'\n"
     ]
    },
    {
     "name": "stderr",
     "output_type": "stream",
     "text": [
      "40560it [14:21, 21.70it/s]"
     ]
    },
    {
     "name": "stdout",
     "output_type": "stream",
     "text": [
      "Do not have groundtruth.\n",
      "Exception: [Errno 2] No such file or directory: 'data/CatA/518/1964.t7'\n",
      "Do not have groundtruth.\n",
      "Exception: [Errno 2] No such file or directory: 'data/CatA/518/1966.t7'\n",
      "Do not have groundtruth.\n",
      "Exception: [Errno 2] No such file or directory: 'data/CatA/518/1967.t7'\n",
      "Do not have groundtruth.\n",
      "Exception: [Errno 2] No such file or directory: 'data/CatA/518/1968.t7'\n"
     ]
    },
    {
     "name": "stderr",
     "output_type": "stream",
     "text": [
      "40585it [14:21, 36.62it/s]"
     ]
    },
    {
     "name": "stdout",
     "output_type": "stream",
     "text": [
      "Do not have groundtruth.\n",
      "Exception: [Errno 2] No such file or directory: 'data/CatA/518/1973.t7'\n",
      "Do not have groundtruth.\n",
      "Exception: [Errno 2] No such file or directory: 'data/CatA/518/1974.t7'\n",
      "Do not have groundtruth.\n",
      "Exception: [Errno 2] No such file or directory: 'data/CatA/518/1975.t7'\n",
      "Do not have groundtruth.\n",
      "Exception: [Errno 2] No such file or directory: 'data/CatA/518/1976.t7'\n",
      "Do not have groundtruth.\n",
      "Exception: [Errno 2] No such file or directory: 'data/CatA/518/1977.t7'\n",
      "Do not have groundtruth.\n",
      "Exception: [Errno 2] No such file or directory: 'data/CatA/518/1978.t7'\n",
      "Do not have groundtruth.\n",
      "Exception: [Errno 2] No such file or directory: 'data/CatA/518/1979.t7'\n",
      "Do not have groundtruth.\n",
      "Exception: [Errno 2] No such file or directory: 'data/CatA/518/1980.t7'\n",
      "Do not have groundtruth.\n",
      "Exception: [Errno 2] No such file or directory: 'data/CatA/518/1981.t7'\n",
      "Do not have groundtruth.\n",
      "Exception: [Errno 2] No such file or directory: 'data/CatA/518/1982.t7'\n",
      "Do not have groundtruth.\n",
      "Exception: [Errno 2] No such file or directory: 'data/CatA/518/1983.t7'\n",
      "Do not have groundtruth.\n",
      "Exception: [Errno 2] No such file or directory: 'data/CatA/518/1984.t7'\n",
      "Do not have groundtruth.\n",
      "Exception: [Errno 2] No such file or directory: 'data/CatA/518/1985.t7'\n",
      "Do not have groundtruth.\n",
      "Exception: [Errno 2] No such file or directory: 'data/CatA/518/1986.t7'\n",
      "Do not have groundtruth.\n",
      "Exception: [Errno 2] No such file or directory: 'data/CatA/518/1987.t7'\n",
      "Do not have groundtruth.\n",
      "Exception: [Errno 2] No such file or directory: 'data/CatA/518/1988.t7'\n",
      "Do not have groundtruth.\n",
      "Exception: [Errno 2] No such file or directory: 'data/CatA/518/1989.t7'\n",
      "Do not have groundtruth.\n",
      "Exception: [Errno 2] No such file or directory: 'data/CatA/518/1990.t7'\n",
      "Do not have groundtruth.\n",
      "Exception: [Errno 2] No such file or directory: 'data/CatA/518/1991.t7'\n",
      "Do not have groundtruth.\n",
      "Exception: [Errno 2] No such file or directory: 'data/CatA/518/1992.t7'\n",
      "Do not have groundtruth.\n",
      "Exception: [Errno 2] No such file or directory: 'data/CatA/518/1993.t7'\n"
     ]
    },
    {
     "name": "stderr",
     "output_type": "stream",
     "text": [
      "40652it [14:25, 19.89it/s]"
     ]
    },
    {
     "name": "stdout",
     "output_type": "stream",
     "text": [
      "Do not have groundtruth.\n",
      "Exception: [Errno 2] No such file or directory: 'data/CatA/518/2057.t7'\n",
      "Do not have groundtruth.\n",
      "Exception: [Errno 2] No such file or directory: 'data/CatA/518/2060.t7'\n",
      "Do not have groundtruth.\n",
      "Exception: [Errno 2] No such file or directory: 'data/CatA/518/2063.t7'\n",
      "Do not have groundtruth.\n",
      "Exception: [Errno 2] No such file or directory: 'data/CatA/518/2064.t7'\n"
     ]
    },
    {
     "name": "stderr",
     "output_type": "stream",
     "text": [
      "40663it [14:26, 21.79it/s]"
     ]
    },
    {
     "name": "stdout",
     "output_type": "stream",
     "text": [
      "Do not have groundtruth.\n",
      "Exception: [Errno 2] No such file or directory: 'data/CatA/518/2069.t7'\n"
     ]
    },
    {
     "name": "stderr",
     "output_type": "stream",
     "text": [
      "62846it [30:50, 33.96it/s]\n"
     ]
    },
    {
     "name": "stdout",
     "output_type": "stream",
     "text": [
      "Dataset: 300VW-B\n"
     ]
    },
    {
     "name": "stderr",
     "output_type": "stream",
     "text": [
      "32872it [07:37, 71.81it/s]\n"
     ]
    },
    {
     "name": "stdout",
     "output_type": "stream",
     "text": [
      "Dataset: 300VW-C\n"
     ]
    },
    {
     "name": "stderr",
     "output_type": "stream",
     "text": [
      "345it [00:03, 119.24it/s]"
     ]
    },
    {
     "name": "stdout",
     "output_type": "stream",
     "text": [
      "Do not have groundtruth.\n",
      "Exception: [Errno 2] No such file or directory: 'data/CatC/410/0318.t7'\n",
      "Do not have groundtruth.\n",
      "Exception: [Errno 2] No such file or directory: 'data/CatC/410/0319.t7'\n",
      "Do not have groundtruth.\n",
      "Exception: [Errno 2] No such file or directory: 'data/CatC/410/0320.t7'\n",
      "Do not have groundtruth.\n",
      "Exception: [Errno 2] No such file or directory: 'data/CatC/410/0321.t7'\n",
      "Do not have groundtruth.\n",
      "Exception: [Errno 2] No such file or directory: 'data/CatC/410/0322.t7'\n",
      "Do not have groundtruth.\n",
      "Exception: [Errno 2] No such file or directory: 'data/CatC/410/0323.t7'\n",
      "Do not have groundtruth.\n",
      "Exception: [Errno 2] No such file or directory: 'data/CatC/410/0324.t7'\n",
      "Do not have groundtruth.\n",
      "Exception: [Errno 2] No such file or directory: 'data/CatC/410/0325.t7'\n",
      "Do not have groundtruth.\n",
      "Exception: [Errno 2] No such file or directory: 'data/CatC/410/0326.t7'\n",
      "Do not have groundtruth.\n",
      "Exception: [Errno 2] No such file or directory: 'data/CatC/410/0327.t7'\n",
      "Do not have groundtruth.\n",
      "Exception: [Errno 2] No such file or directory: 'data/CatC/410/0328.t7'\n",
      "Do not have groundtruth.\n",
      "Exception: [Errno 2] No such file or directory: 'data/CatC/410/0329.t7'\n",
      "Do not have groundtruth.\n",
      "Exception: [Errno 2] No such file or directory: 'data/CatC/410/0330.t7'\n",
      "Do not have groundtruth.\n",
      "Exception: [Errno 2] No such file or directory: 'data/CatC/410/0331.t7'\n",
      "Do not have groundtruth.\n",
      "Exception: [Errno 2] No such file or directory: 'data/CatC/410/0332.t7'\n",
      "Do not have groundtruth.\n",
      "Exception: [Errno 2] No such file or directory: 'data/CatC/410/0333.t7'\n",
      "Do not have groundtruth.\n",
      "Exception: [Errno 2] No such file or directory: 'data/CatC/410/0334.t7'\n",
      "Do not have groundtruth.\n",
      "Exception: [Errno 2] No such file or directory: 'data/CatC/410/0335.t7'\n",
      "Do not have groundtruth.\n",
      "Exception: [Errno 2] No such file or directory: 'data/CatC/410/0336.t7'\n",
      "Do not have groundtruth.\n",
      "Exception: [Errno 2] No such file or directory: 'data/CatC/410/0337.t7'\n",
      "Do not have groundtruth.\n",
      "Exception: [Errno 2] No such file or directory: 'data/CatC/410/0338.t7'\n",
      "Do not have groundtruth.\n",
      "Exception: [Errno 2] No such file or directory: 'data/CatC/410/0339.t7'\n"
     ]
    },
    {
     "name": "stderr",
     "output_type": "stream",
     "text": [
      "1149it [00:12, 111.69it/s]"
     ]
    },
    {
     "name": "stdout",
     "output_type": "stream",
     "text": [
      "Do not have groundtruth.\n",
      "Exception: [Errno 2] No such file or directory: 'data/CatC/410/1117.t7'\n",
      "Do not have groundtruth.\n",
      "Exception: [Errno 2] No such file or directory: 'data/CatC/410/1118.t7'\n",
      "Do not have groundtruth.\n",
      "Exception: [Errno 2] No such file or directory: 'data/CatC/410/1119.t7'\n",
      "Do not have groundtruth.\n",
      "Exception: [Errno 2] No such file or directory: 'data/CatC/410/1120.t7'\n",
      "Do not have groundtruth.\n",
      "Exception: [Errno 2] No such file or directory: 'data/CatC/410/1121.t7'\n",
      "Do not have groundtruth.\n",
      "Exception: [Errno 2] No such file or directory: 'data/CatC/410/1122.t7'\n",
      "Do not have groundtruth.\n",
      "Exception: [Errno 2] No such file or directory: 'data/CatC/410/1123.t7'\n",
      "Do not have groundtruth.\n",
      "Exception: [Errno 2] No such file or directory: 'data/CatC/410/1124.t7'\n",
      "Do not have groundtruth.\n",
      "Exception: [Errno 2] No such file or directory: 'data/CatC/410/1125.t7'\n",
      "Do not have groundtruth.\n",
      "Exception: [Errno 2] No such file or directory: 'data/CatC/410/1126.t7'\n",
      "Do not have groundtruth.\n",
      "Exception: [Errno 2] No such file or directory: 'data/CatC/410/1127.t7'\n",
      "Do not have groundtruth.\n",
      "Exception: [Errno 2] No such file or directory: 'data/CatC/410/1128.t7'\n",
      "Do not have groundtruth.\n",
      "Exception: [Errno 2] No such file or directory: 'data/CatC/410/1131.t7'\n"
     ]
    },
    {
     "name": "stderr",
     "output_type": "stream",
     "text": [
      "1204it [00:13, 102.93it/s]"
     ]
    },
    {
     "name": "stdout",
     "output_type": "stream",
     "text": [
      "Do not have groundtruth.\n",
      "Exception: [Errno 2] No such file or directory: 'data/CatC/410/1183.t7'\n",
      "Do not have groundtruth.\n",
      "Exception: [Errno 2] No such file or directory: 'data/CatC/410/1184.t7'\n",
      "Do not have groundtruth.\n",
      "Exception: [Errno 2] No such file or directory: 'data/CatC/410/1186.t7'\n",
      "Do not have groundtruth.\n",
      "Exception: [Errno 2] No such file or directory: 'data/CatC/410/1187.t7'\n",
      "Do not have groundtruth.\n",
      "Exception: [Errno 2] No such file or directory: 'data/CatC/410/1188.t7'\n",
      "Do not have groundtruth.\n",
      "Exception: [Errno 2] No such file or directory: 'data/CatC/410/1189.t7'\n",
      "Do not have groundtruth.\n",
      "Exception: [Errno 2] No such file or directory: 'data/CatC/410/1191.t7'\n"
     ]
    },
    {
     "name": "stderr",
     "output_type": "stream",
     "text": [
      "1238it [00:13, 99.80it/s]"
     ]
    },
    {
     "name": "stdout",
     "output_type": "stream",
     "text": [
      "Do not have groundtruth.\n",
      "Exception: [Errno 2] No such file or directory: 'data/CatC/410/1222.t7'\n",
      "Do not have groundtruth.\n",
      "Exception: [Errno 2] No such file or directory: 'data/CatC/410/1223.t7'\n"
     ]
    },
    {
     "name": "stderr",
     "output_type": "stream",
     "text": [
      "1407it [00:15, 92.19it/s]"
     ]
    },
    {
     "name": "stdout",
     "output_type": "stream",
     "text": [
      "Do not have groundtruth.\n",
      "Exception: [Errno 2] No such file or directory: 'data/CatC/411/0075.t7'\n"
     ]
    },
    {
     "name": "stderr",
     "output_type": "stream",
     "text": [
      "1449it [00:15, 99.41it/s]"
     ]
    },
    {
     "name": "stdout",
     "output_type": "stream",
     "text": [
      "Do not have groundtruth.\n",
      "Exception: [Errno 2] No such file or directory: 'data/CatC/411/0118.t7'\n"
     ]
    },
    {
     "name": "stderr",
     "output_type": "stream",
     "text": [
      "1797it [00:19, 102.66it/s]"
     ]
    },
    {
     "name": "stdout",
     "output_type": "stream",
     "text": [
      "Do not have groundtruth.\n",
      "Exception: [Errno 2] No such file or directory: 'data/CatC/411/0462.t7'\n",
      "Do not have groundtruth.\n",
      "Exception: [Errno 2] No such file or directory: 'data/CatC/411/0463.t7'\n",
      "Do not have groundtruth.\n",
      "Exception: [Errno 2] No such file or directory: 'data/CatC/411/0464.t7'\n",
      "Do not have groundtruth.\n",
      "Exception: [Errno 2] No such file or directory: 'data/CatC/411/0465.t7'\n",
      "Do not have groundtruth.\n",
      "Exception: [Errno 2] No such file or directory: 'data/CatC/411/0466.t7'\n",
      "Do not have groundtruth.\n",
      "Exception: [Errno 2] No such file or directory: 'data/CatC/411/0467.t7'\n",
      "Do not have groundtruth.\n",
      "Exception: [Errno 2] No such file or directory: 'data/CatC/411/0468.t7'\n"
     ]
    },
    {
     "name": "stderr",
     "output_type": "stream",
     "text": [
      "9603it [02:00, 66.80it/s]"
     ]
    },
    {
     "name": "stdout",
     "output_type": "stream",
     "text": [
      "Do not have groundtruth.\n",
      "Exception: [Errno 2] No such file or directory: 'data/CatC/528/0313.t7'\n"
     ]
    },
    {
     "name": "stderr",
     "output_type": "stream",
     "text": [
      "10370it [02:09, 82.07it/s]"
     ]
    },
    {
     "name": "stdout",
     "output_type": "stream",
     "text": [
      "Do not have groundtruth.\n",
      "Exception: [Errno 2] No such file or directory: 'data/CatC/528/1076.t7'\n"
     ]
    },
    {
     "name": "stderr",
     "output_type": "stream",
     "text": [
      "14696it [03:09, 72.32it/s]"
     ]
    },
    {
     "name": "stdout",
     "output_type": "stream",
     "text": [
      "Do not have groundtruth.\n",
      "Exception: [Errno 2] No such file or directory: 'data/CatC/530/0113.t7'\n"
     ]
    },
    {
     "name": "stderr",
     "output_type": "stream",
     "text": [
      "15331it [03:18, 70.46it/s]"
     ]
    },
    {
     "name": "stdout",
     "output_type": "stream",
     "text": [
      "Do not have groundtruth.\n",
      "Exception: [Errno 2] No such file or directory: 'data/CatC/530/0747.t7'\n"
     ]
    },
    {
     "name": "stderr",
     "output_type": "stream",
     "text": [
      "15455it [03:20, 62.40it/s]"
     ]
    },
    {
     "name": "stdout",
     "output_type": "stream",
     "text": [
      "Do not have groundtruth.\n",
      "Exception: [Errno 2] No such file or directory: 'data/CatC/530/0872.t7'\n",
      "Do not have groundtruth.\n",
      "Exception: [Errno 2] No such file or directory: 'data/CatC/530/0873.t7'\n"
     ]
    },
    {
     "name": "stderr",
     "output_type": "stream",
     "text": [
      "15476it [03:20, 62.37it/s]"
     ]
    },
    {
     "name": "stdout",
     "output_type": "stream",
     "text": [
      "Do not have groundtruth.\n",
      "Exception: [Errno 2] No such file or directory: 'data/CatC/530/0889.t7'\n"
     ]
    },
    {
     "name": "stderr",
     "output_type": "stream",
     "text": [
      "17134it [03:46, 68.56it/s]"
     ]
    },
    {
     "name": "stdout",
     "output_type": "stream",
     "text": [
      "Do not have groundtruth.\n",
      "Exception: [Errno 2] No such file or directory: 'data/CatC/531/0109.t7'\n"
     ]
    },
    {
     "name": "stderr",
     "output_type": "stream",
     "text": [
      "19582it [04:24, 60.81it/s]"
     ]
    },
    {
     "name": "stdout",
     "output_type": "stream",
     "text": [
      "Do not have groundtruth.\n",
      "Exception: [Errno 2] No such file or directory: 'data/CatC/533/0663.t7'\n",
      "Do not have groundtruth.\n",
      "Exception: [Errno 2] No such file or directory: 'data/CatC/533/0664.t7'\n",
      "Do not have groundtruth.\n",
      "Exception: [Errno 2] No such file or directory: 'data/CatC/533/0665.t7'\n"
     ]
    },
    {
     "name": "stderr",
     "output_type": "stream",
     "text": [
      "19763it [04:26, 71.81it/s]"
     ]
    },
    {
     "name": "stdout",
     "output_type": "stream",
     "text": [
      "Do not have groundtruth.\n",
      "Exception: [Errno 2] No such file or directory: 'data/CatC/533/0846.t7'\n"
     ]
    },
    {
     "name": "stderr",
     "output_type": "stream",
     "text": [
      "19947it [04:29, 66.66it/s]"
     ]
    },
    {
     "name": "stdout",
     "output_type": "stream",
     "text": [
      "Do not have groundtruth.\n",
      "Exception: [Errno 2] No such file or directory: 'data/CatC/533/1029.t7'\n",
      "Do not have groundtruth.\n",
      "Exception: [Errno 2] No such file or directory: 'data/CatC/533/1034.t7'\n"
     ]
    },
    {
     "name": "stderr",
     "output_type": "stream",
     "text": [
      "20076it [04:30, 96.24it/s]"
     ]
    },
    {
     "name": "stdout",
     "output_type": "stream",
     "text": [
      "Do not have groundtruth.\n",
      "Exception: [Errno 2] No such file or directory: 'data/CatC/533/1049.t7'\n",
      "Do not have groundtruth.\n",
      "Exception: [Errno 2] No such file or directory: 'data/CatC/533/1051.t7'\n",
      "Do not have groundtruth.\n",
      "Exception: [Errno 2] No such file or directory: 'data/CatC/533/1052.t7'\n",
      "Do not have groundtruth.\n",
      "Exception: [Errno 2] No such file or directory: 'data/CatC/533/1053.t7'\n",
      "Do not have groundtruth.\n",
      "Exception: [Errno 2] No such file or directory: 'data/CatC/533/1055.t7'\n",
      "Do not have groundtruth.\n",
      "Exception: [Errno 2] No such file or directory: 'data/CatC/533/1056.t7'\n",
      "Do not have groundtruth.\n",
      "Exception: [Errno 2] No such file or directory: 'data/CatC/533/1057.t7'\n",
      "Do not have groundtruth.\n",
      "Exception: [Errno 2] No such file or directory: 'data/CatC/533/1058.t7'\n",
      "Do not have groundtruth.\n",
      "Exception: [Errno 2] No such file or directory: 'data/CatC/533/1059.t7'\n",
      "Do not have groundtruth.\n",
      "Exception: [Errno 2] No such file or directory: 'data/CatC/533/1060.t7'\n",
      "Do not have groundtruth.\n",
      "Exception: [Errno 2] No such file or directory: 'data/CatC/533/1061.t7'\n",
      "Do not have groundtruth.\n",
      "Exception: [Errno 2] No such file or directory: 'data/CatC/533/1062.t7'\n",
      "Do not have groundtruth.\n",
      "Exception: [Errno 2] No such file or directory: 'data/CatC/533/1063.t7'\n",
      "Do not have groundtruth.\n",
      "Exception: [Errno 2] No such file or directory: 'data/CatC/533/1064.t7'\n",
      "Do not have groundtruth.\n",
      "Exception: [Errno 2] No such file or directory: 'data/CatC/533/1065.t7'\n",
      "Do not have groundtruth.\n",
      "Exception: [Errno 2] No such file or directory: 'data/CatC/533/1067.t7'\n",
      "Do not have groundtruth.\n",
      "Exception: [Errno 2] No such file or directory: 'data/CatC/533/1068.t7'\n",
      "Do not have groundtruth.\n",
      "Exception: [Errno 2] No such file or directory: 'data/CatC/533/1069.t7'\n",
      "Do not have groundtruth.\n",
      "Exception: [Errno 2] No such file or directory: 'data/CatC/533/1070.t7'\n",
      "Do not have groundtruth.\n",
      "Exception: [Errno 2] No such file or directory: 'data/CatC/533/1071.t7'\n",
      "Do not have groundtruth.\n",
      "Exception: [Errno 2] No such file or directory: 'data/CatC/533/1072.t7'\n",
      "Do not have groundtruth.\n",
      "Exception: [Errno 2] No such file or directory: 'data/CatC/533/1073.t7'\n",
      "Do not have groundtruth.\n",
      "Exception: [Errno 2] No such file or directory: 'data/CatC/533/1074.t7'\n",
      "Do not have groundtruth.\n",
      "Exception: [Errno 2] No such file or directory: 'data/CatC/533/1075.t7'\n",
      "Do not have groundtruth.\n",
      "Exception: [Errno 2] No such file or directory: 'data/CatC/533/1076.t7'\n",
      "Do not have groundtruth.\n",
      "Exception: [Errno 2] No such file or directory: 'data/CatC/533/1077.t7'\n",
      "Do not have groundtruth.\n",
      "Exception: [Errno 2] No such file or directory: 'data/CatC/533/1078.t7'\n",
      "Do not have groundtruth.\n",
      "Exception: [Errno 2] No such file or directory: 'data/CatC/533/1079.t7'\n",
      "Do not have groundtruth.\n",
      "Exception: [Errno 2] No such file or directory: 'data/CatC/533/1080.t7'\n",
      "Do not have groundtruth.\n",
      "Exception: [Errno 2] No such file or directory: 'data/CatC/533/1081.t7'\n",
      "Do not have groundtruth.\n",
      "Exception: [Errno 2] No such file or directory: 'data/CatC/533/1082.t7'\n",
      "Do not have groundtruth.\n",
      "Exception: [Errno 2] No such file or directory: 'data/CatC/533/1083.t7'\n",
      "Do not have groundtruth.\n",
      "Exception: [Errno 2] No such file or directory: 'data/CatC/533/1084.t7'\n",
      "Do not have groundtruth.\n",
      "Exception: [Errno 2] No such file or directory: 'data/CatC/533/1085.t7'\n",
      "Do not have groundtruth.\n",
      "Exception: [Errno 2] No such file or directory: 'data/CatC/533/1086.t7'\n",
      "Do not have groundtruth.\n",
      "Exception: [Errno 2] No such file or directory: 'data/CatC/533/1087.t7'\n",
      "Do not have groundtruth.\n",
      "Exception: [Errno 2] No such file or directory: 'data/CatC/533/1088.t7'\n",
      "Do not have groundtruth.\n",
      "Exception: [Errno 2] No such file or directory: 'data/CatC/533/1089.t7'\n",
      "Do not have groundtruth.\n",
      "Exception: [Errno 2] No such file or directory: 'data/CatC/533/1090.t7'\n",
      "Do not have groundtruth.\n",
      "Exception: [Errno 2] No such file or directory: 'data/CatC/533/1091.t7'\n",
      "Do not have groundtruth.\n",
      "Exception: [Errno 2] No such file or directory: 'data/CatC/533/1092.t7'\n",
      "Do not have groundtruth.\n",
      "Exception: [Errno 2] No such file or directory: 'data/CatC/533/1093.t7'\n",
      "Do not have groundtruth.\n",
      "Exception: [Errno 2] No such file or directory: 'data/CatC/533/1094.t7'\n",
      "Do not have groundtruth.\n",
      "Exception: [Errno 2] No such file or directory: 'data/CatC/533/1095.t7'\n",
      "Do not have groundtruth.\n",
      "Exception: [Errno 2] No such file or directory: 'data/CatC/533/1096.t7'\n",
      "Do not have groundtruth.\n",
      "Exception: [Errno 2] No such file or directory: 'data/CatC/533/1097.t7'\n",
      "Do not have groundtruth.\n",
      "Exception: [Errno 2] No such file or directory: 'data/CatC/533/1098.t7'\n",
      "Do not have groundtruth.\n",
      "Exception: [Errno 2] No such file or directory: 'data/CatC/533/1099.t7'\n",
      "Do not have groundtruth.\n",
      "Exception: [Errno 2] No such file or directory: 'data/CatC/533/1100.t7'\n",
      "Do not have groundtruth.\n",
      "Exception: [Errno 2] No such file or directory: 'data/CatC/533/1101.t7'\n",
      "Do not have groundtruth.\n",
      "Exception: [Errno 2] No such file or directory: 'data/CatC/533/1102.t7'\n",
      "Do not have groundtruth.\n",
      "Exception: [Errno 2] No such file or directory: 'data/CatC/533/1103.t7'\n",
      "Do not have groundtruth.\n",
      "Exception: [Errno 2] No such file or directory: 'data/CatC/533/1104.t7'\n",
      "Do not have groundtruth.\n",
      "Exception: [Errno 2] No such file or directory: 'data/CatC/533/1105.t7'\n",
      "Do not have groundtruth.\n",
      "Exception: [Errno 2] No such file or directory: 'data/CatC/533/1106.t7'\n",
      "Do not have groundtruth.\n",
      "Exception: [Errno 2] No such file or directory: 'data/CatC/533/1107.t7'\n",
      "Do not have groundtruth.\n",
      "Exception: [Errno 2] No such file or directory: 'data/CatC/533/1108.t7'\n",
      "Do not have groundtruth.\n",
      "Exception: [Errno 2] No such file or directory: 'data/CatC/533/1109.t7'\n",
      "Do not have groundtruth.\n",
      "Exception: [Errno 2] No such file or directory: 'data/CatC/533/1110.t7'\n",
      "Do not have groundtruth.\n",
      "Exception: [Errno 2] No such file or directory: 'data/CatC/533/1111.t7'\n",
      "Do not have groundtruth.\n",
      "Exception: [Errno 2] No such file or directory: 'data/CatC/533/1112.t7'\n",
      "Do not have groundtruth.\n",
      "Exception: [Errno 2] No such file or directory: 'data/CatC/533/1113.t7'\n",
      "Do not have groundtruth.\n",
      "Exception: [Errno 2] No such file or directory: 'data/CatC/533/1114.t7'\n",
      "Do not have groundtruth.\n",
      "Exception: [Errno 2] No such file or directory: 'data/CatC/533/1115.t7'\n",
      "Do not have groundtruth.\n",
      "Exception: [Errno 2] No such file or directory: 'data/CatC/533/1116.t7'\n",
      "Do not have groundtruth.\n",
      "Exception: [Errno 2] No such file or directory: 'data/CatC/533/1117.t7'\n",
      "Do not have groundtruth.\n",
      "Exception: [Errno 2] No such file or directory: 'data/CatC/533/1118.t7'\n",
      "Do not have groundtruth.\n",
      "Exception: [Errno 2] No such file or directory: 'data/CatC/533/1119.t7'\n",
      "Do not have groundtruth.\n",
      "Exception: [Errno 2] No such file or directory: 'data/CatC/533/1120.t7'\n",
      "Do not have groundtruth.\n",
      "Exception: [Errno 2] No such file or directory: 'data/CatC/533/1121.t7'\n",
      "Do not have groundtruth.\n",
      "Exception: [Errno 2] No such file or directory: 'data/CatC/533/1122.t7'\n",
      "Do not have groundtruth.\n",
      "Exception: [Errno 2] No such file or directory: 'data/CatC/533/1123.t7'\n",
      "Do not have groundtruth.\n",
      "Exception: [Errno 2] No such file or directory: 'data/CatC/533/1124.t7'\n",
      "Do not have groundtruth.\n",
      "Exception: [Errno 2] No such file or directory: 'data/CatC/533/1125.t7'\n",
      "Do not have groundtruth.\n",
      "Exception: [Errno 2] No such file or directory: 'data/CatC/533/1126.t7'\n",
      "Do not have groundtruth.\n",
      "Exception: [Errno 2] No such file or directory: 'data/CatC/533/1127.t7'\n",
      "Do not have groundtruth.\n",
      "Exception: [Errno 2] No such file or directory: 'data/CatC/533/1128.t7'\n",
      "Do not have groundtruth.\n",
      "Exception: [Errno 2] No such file or directory: 'data/CatC/533/1129.t7'\n",
      "Do not have groundtruth.\n",
      "Exception: [Errno 2] No such file or directory: 'data/CatC/533/1130.t7'\n",
      "Do not have groundtruth.\n",
      "Exception: [Errno 2] No such file or directory: 'data/CatC/533/1131.t7'\n",
      "Do not have groundtruth.\n",
      "Exception: [Errno 2] No such file or directory: 'data/CatC/533/1132.t7'\n",
      "Do not have groundtruth.\n",
      "Exception: [Errno 2] No such file or directory: 'data/CatC/533/1133.t7'\n",
      "Do not have groundtruth.\n",
      "Exception: [Errno 2] No such file or directory: 'data/CatC/533/1134.t7'\n",
      "Do not have groundtruth.\n",
      "Exception: [Errno 2] No such file or directory: 'data/CatC/533/1135.t7'\n",
      "Do not have groundtruth.\n",
      "Exception: [Errno 2] No such file or directory: 'data/CatC/533/1136.t7'\n",
      "Do not have groundtruth.\n",
      "Exception: [Errno 2] No such file or directory: 'data/CatC/533/1137.t7'\n",
      "Do not have groundtruth.\n",
      "Exception: [Errno 2] No such file or directory: 'data/CatC/533/1138.t7'\n",
      "Do not have groundtruth.\n",
      "Exception: [Errno 2] No such file or directory: 'data/CatC/533/1139.t7'\n",
      "Do not have groundtruth.\n",
      "Exception: [Errno 2] No such file or directory: 'data/CatC/533/1140.t7'\n",
      "Do not have groundtruth.\n",
      "Exception: [Errno 2] No such file or directory: 'data/CatC/533/1141.t7'\n",
      "Do not have groundtruth.\n",
      "Exception: [Errno 2] No such file or directory: 'data/CatC/533/1142.t7'\n",
      "Do not have groundtruth.\n",
      "Exception: [Errno 2] No such file or directory: 'data/CatC/533/1143.t7'\n",
      "Do not have groundtruth.\n",
      "Exception: [Errno 2] No such file or directory: 'data/CatC/533/1144.t7'\n",
      "Do not have groundtruth.\n",
      "Exception: [Errno 2] No such file or directory: 'data/CatC/533/1145.t7'\n",
      "Do not have groundtruth.\n",
      "Exception: [Errno 2] No such file or directory: 'data/CatC/533/1146.t7'\n",
      "Do not have groundtruth.\n",
      "Exception: [Errno 2] No such file or directory: 'data/CatC/533/1147.t7'\n",
      "Do not have groundtruth.\n",
      "Exception: [Errno 2] No such file or directory: 'data/CatC/533/1148.t7'\n",
      "Do not have groundtruth.\n",
      "Exception: [Errno 2] No such file or directory: 'data/CatC/533/1149.t7'\n",
      "Do not have groundtruth.\n",
      "Exception: [Errno 2] No such file or directory: 'data/CatC/533/1150.t7'\n",
      "Do not have groundtruth.\n",
      "Exception: [Errno 2] No such file or directory: 'data/CatC/533/1151.t7'\n",
      "Do not have groundtruth.\n",
      "Exception: [Errno 2] No such file or directory: 'data/CatC/533/1152.t7'\n",
      "Do not have groundtruth.\n",
      "Exception: [Errno 2] No such file or directory: 'data/CatC/533/1153.t7'\n",
      "Do not have groundtruth.\n",
      "Exception: [Errno 2] No such file or directory: 'data/CatC/533/1154.t7'\n",
      "Do not have groundtruth.\n",
      "Exception: [Errno 2] No such file or directory: 'data/CatC/533/1155.t7'\n",
      "Do not have groundtruth.\n",
      "Exception: [Errno 2] No such file or directory: 'data/CatC/533/1156.t7'\n",
      "Do not have groundtruth.\n",
      "Exception: [Errno 2] No such file or directory: 'data/CatC/533/1157.t7'\n",
      "Do not have groundtruth.\n",
      "Exception: [Errno 2] No such file or directory: 'data/CatC/533/1158.t7'\n",
      "Do not have groundtruth.\n",
      "Exception: [Errno 2] No such file or directory: 'data/CatC/533/1159.t7'\n",
      "Do not have groundtruth.\n",
      "Exception: [Errno 2] No such file or directory: 'data/CatC/533/1160.t7'\n",
      "Do not have groundtruth.\n",
      "Exception: [Errno 2] No such file or directory: 'data/CatC/533/1161.t7'\n",
      "Do not have groundtruth.\n",
      "Exception: [Errno 2] No such file or directory: 'data/CatC/533/1162.t7'\n",
      "Do not have groundtruth.\n",
      "Exception: [Errno 2] No such file or directory: 'data/CatC/533/1163.t7'\n",
      "Do not have groundtruth.\n",
      "Exception: [Errno 2] No such file or directory: 'data/CatC/533/1164.t7'\n",
      "Do not have groundtruth.\n",
      "Exception: [Errno 2] No such file or directory: 'data/CatC/533/1165.t7'\n",
      "Do not have groundtruth.\n",
      "Exception: [Errno 2] No such file or directory: 'data/CatC/533/1166.t7'\n",
      "Do not have groundtruth.\n",
      "Exception: [Errno 2] No such file or directory: 'data/CatC/533/1167.t7'\n",
      "Do not have groundtruth.\n",
      "Exception: [Errno 2] No such file or directory: 'data/CatC/533/1168.t7'\n",
      "Do not have groundtruth.\n",
      "Exception: [Errno 2] No such file or directory: 'data/CatC/533/1169.t7'\n",
      "Do not have groundtruth.\n",
      "Exception: [Errno 2] No such file or directory: 'data/CatC/533/1170.t7'\n",
      "Do not have groundtruth.\n",
      "Exception: [Errno 2] No such file or directory: 'data/CatC/533/1171.t7'\n",
      "Do not have groundtruth.\n",
      "Exception: [Errno 2] No such file or directory: 'data/CatC/533/1172.t7'\n",
      "Do not have groundtruth.\n",
      "Exception: [Errno 2] No such file or directory: 'data/CatC/533/1173.t7'\n",
      "Do not have groundtruth.\n",
      "Exception: [Errno 2] No such file or directory: 'data/CatC/533/1174.t7'\n",
      "Do not have groundtruth.\n",
      "Exception: [Errno 2] No such file or directory: 'data/CatC/533/1175.t7'\n",
      "Do not have groundtruth.\n",
      "Exception: [Errno 2] No such file or directory: 'data/CatC/533/1176.t7'\n",
      "Do not have groundtruth.\n",
      "Exception: [Errno 2] No such file or directory: 'data/CatC/533/1177.t7'\n",
      "Do not have groundtruth.\n",
      "Exception: [Errno 2] No such file or directory: 'data/CatC/533/1178.t7'\n",
      "Do not have groundtruth.\n",
      "Exception: [Errno 2] No such file or directory: 'data/CatC/533/1179.t7'\n",
      "Do not have groundtruth.\n",
      "Exception: [Errno 2] No such file or directory: 'data/CatC/533/1180.t7'\n",
      "Do not have groundtruth.\n",
      "Exception: [Errno 2] No such file or directory: 'data/CatC/533/1181.t7'\n",
      "Do not have groundtruth.\n",
      "Exception: [Errno 2] No such file or directory: 'data/CatC/533/1182.t7'\n",
      "Do not have groundtruth.\n",
      "Exception: [Errno 2] No such file or directory: 'data/CatC/533/1183.t7'\n",
      "Do not have groundtruth.\n",
      "Exception: [Errno 2] No such file or directory: 'data/CatC/533/1184.t7'\n",
      "Do not have groundtruth.\n",
      "Exception: [Errno 2] No such file or directory: 'data/CatC/533/1185.t7'\n",
      "Do not have groundtruth.\n",
      "Exception: [Errno 2] No such file or directory: 'data/CatC/533/1186.t7'\n",
      "Do not have groundtruth.\n",
      "Exception: [Errno 2] No such file or directory: 'data/CatC/533/1187.t7'\n",
      "Do not have groundtruth.\n",
      "Exception: [Errno 2] No such file or directory: 'data/CatC/533/1188.t7'\n",
      "Do not have groundtruth.\n",
      "Exception: [Errno 2] No such file or directory: 'data/CatC/533/1189.t7'\n"
     ]
    },
    {
     "name": "stderr",
     "output_type": "stream",
     "text": [
      "20237it [04:30, 141.13it/s]"
     ]
    },
    {
     "name": "stdout",
     "output_type": "stream",
     "text": [
      "Do not have groundtruth.\n",
      "Exception: [Errno 2] No such file or directory: 'data/CatC/533/1227.t7'\n",
      "Do not have groundtruth.\n",
      "Exception: [Errno 2] No such file or directory: 'data/CatC/533/1229.t7'\n",
      "Do not have groundtruth.\n",
      "Exception: [Errno 2] No such file or directory: 'data/CatC/533/1230.t7'\n",
      "Do not have groundtruth.\n",
      "Exception: [Errno 2] No such file or directory: 'data/CatC/533/1231.t7'\n",
      "Do not have groundtruth.\n",
      "Exception: [Errno 2] No such file or directory: 'data/CatC/533/1232.t7'\n",
      "Do not have groundtruth.\n",
      "Exception: [Errno 2] No such file or directory: 'data/CatC/533/1233.t7'\n",
      "Do not have groundtruth.\n",
      "Exception: [Errno 2] No such file or directory: 'data/CatC/533/1234.t7'\n",
      "Do not have groundtruth.\n",
      "Exception: [Errno 2] No such file or directory: 'data/CatC/533/1235.t7'\n",
      "Do not have groundtruth.\n",
      "Exception: [Errno 2] No such file or directory: 'data/CatC/533/1236.t7'\n",
      "Do not have groundtruth.\n",
      "Exception: [Errno 2] No such file or directory: 'data/CatC/533/1237.t7'\n",
      "Do not have groundtruth.\n",
      "Exception: [Errno 2] No such file or directory: 'data/CatC/533/1238.t7'\n",
      "Do not have groundtruth.\n",
      "Exception: [Errno 2] No such file or directory: 'data/CatC/533/1239.t7'\n",
      "Do not have groundtruth.\n",
      "Exception: [Errno 2] No such file or directory: 'data/CatC/533/1240.t7'\n",
      "Do not have groundtruth.\n",
      "Exception: [Errno 2] No such file or directory: 'data/CatC/533/1241.t7'\n",
      "Do not have groundtruth.\n",
      "Exception: [Errno 2] No such file or directory: 'data/CatC/533/1242.t7'\n",
      "Do not have groundtruth.\n",
      "Exception: [Errno 2] No such file or directory: 'data/CatC/533/1243.t7'\n",
      "Do not have groundtruth.\n",
      "Exception: [Errno 2] No such file or directory: 'data/CatC/533/1244.t7'\n",
      "Do not have groundtruth.\n",
      "Exception: [Errno 2] No such file or directory: 'data/CatC/533/1245.t7'\n",
      "Do not have groundtruth.\n",
      "Exception: [Errno 2] No such file or directory: 'data/CatC/533/1246.t7'\n",
      "Do not have groundtruth.\n",
      "Exception: [Errno 2] No such file or directory: 'data/CatC/533/1247.t7'\n",
      "Do not have groundtruth.\n",
      "Exception: [Errno 2] No such file or directory: 'data/CatC/533/1248.t7'\n",
      "Do not have groundtruth.\n",
      "Exception: [Errno 2] No such file or directory: 'data/CatC/533/1249.t7'\n",
      "Do not have groundtruth.\n",
      "Exception: [Errno 2] No such file or directory: 'data/CatC/533/1250.t7'\n",
      "Do not have groundtruth.\n",
      "Exception: [Errno 2] No such file or directory: 'data/CatC/533/1251.t7'\n",
      "Do not have groundtruth.\n",
      "Exception: [Errno 2] No such file or directory: 'data/CatC/533/1252.t7'\n",
      "Do not have groundtruth.\n",
      "Exception: [Errno 2] No such file or directory: 'data/CatC/533/1253.t7'\n",
      "Do not have groundtruth.\n",
      "Exception: [Errno 2] No such file or directory: 'data/CatC/533/1254.t7'\n",
      "Do not have groundtruth.\n",
      "Exception: [Errno 2] No such file or directory: 'data/CatC/533/1255.t7'\n",
      "Do not have groundtruth.\n",
      "Exception: [Errno 2] No such file or directory: 'data/CatC/533/1256.t7'\n",
      "Do not have groundtruth.\n",
      "Exception: [Errno 2] No such file or directory: 'data/CatC/533/1257.t7'\n",
      "Do not have groundtruth.\n",
      "Exception: [Errno 2] No such file or directory: 'data/CatC/533/1258.t7'\n",
      "Do not have groundtruth.\n",
      "Exception: [Errno 2] No such file or directory: 'data/CatC/533/1259.t7'\n",
      "Do not have groundtruth.\n",
      "Exception: [Errno 2] No such file or directory: 'data/CatC/533/1260.t7'\n",
      "Do not have groundtruth.\n",
      "Exception: [Errno 2] No such file or directory: 'data/CatC/533/1261.t7'\n",
      "Do not have groundtruth.\n",
      "Exception: [Errno 2] No such file or directory: 'data/CatC/533/1262.t7'\n",
      "Do not have groundtruth.\n",
      "Exception: [Errno 2] No such file or directory: 'data/CatC/533/1263.t7'\n",
      "Do not have groundtruth.\n",
      "Exception: [Errno 2] No such file or directory: 'data/CatC/533/1264.t7'\n",
      "Do not have groundtruth.\n",
      "Exception: [Errno 2] No such file or directory: 'data/CatC/533/1265.t7'\n",
      "Do not have groundtruth.\n",
      "Exception: [Errno 2] No such file or directory: 'data/CatC/533/1266.t7'\n",
      "Do not have groundtruth.\n",
      "Exception: [Errno 2] No such file or directory: 'data/CatC/533/1267.t7'\n",
      "Do not have groundtruth.\n",
      "Exception: [Errno 2] No such file or directory: 'data/CatC/533/1268.t7'\n",
      "Do not have groundtruth.\n",
      "Exception: [Errno 2] No such file or directory: 'data/CatC/533/1269.t7'\n",
      "Do not have groundtruth.\n",
      "Exception: [Errno 2] No such file or directory: 'data/CatC/533/1270.t7'\n",
      "Do not have groundtruth.\n",
      "Exception: [Errno 2] No such file or directory: 'data/CatC/533/1271.t7'\n",
      "Do not have groundtruth.\n",
      "Exception: [Errno 2] No such file or directory: 'data/CatC/533/1272.t7'\n",
      "Do not have groundtruth.\n",
      "Exception: [Errno 2] No such file or directory: 'data/CatC/533/1273.t7'\n",
      "Do not have groundtruth.\n",
      "Exception: [Errno 2] No such file or directory: 'data/CatC/533/1274.t7'\n",
      "Do not have groundtruth.\n",
      "Exception: [Errno 2] No such file or directory: 'data/CatC/533/1275.t7'\n",
      "Do not have groundtruth.\n",
      "Exception: [Errno 2] No such file or directory: 'data/CatC/533/1276.t7'\n",
      "Do not have groundtruth.\n",
      "Exception: [Errno 2] No such file or directory: 'data/CatC/533/1277.t7'\n",
      "Do not have groundtruth.\n",
      "Exception: [Errno 2] No such file or directory: 'data/CatC/533/1278.t7'\n",
      "Do not have groundtruth.\n",
      "Exception: [Errno 2] No such file or directory: 'data/CatC/533/1279.t7'\n",
      "Do not have groundtruth.\n",
      "Exception: [Errno 2] No such file or directory: 'data/CatC/533/1280.t7'\n",
      "Do not have groundtruth.\n",
      "Exception: [Errno 2] No such file or directory: 'data/CatC/533/1281.t7'\n",
      "Do not have groundtruth.\n",
      "Exception: [Errno 2] No such file or directory: 'data/CatC/533/1282.t7'\n",
      "Do not have groundtruth.\n",
      "Exception: [Errno 2] No such file or directory: 'data/CatC/533/1283.t7'\n",
      "Do not have groundtruth.\n",
      "Exception: [Errno 2] No such file or directory: 'data/CatC/533/1284.t7'\n",
      "Do not have groundtruth.\n",
      "Exception: [Errno 2] No such file or directory: 'data/CatC/533/1285.t7'\n",
      "Do not have groundtruth.\n",
      "Exception: [Errno 2] No such file or directory: 'data/CatC/533/1286.t7'\n",
      "Do not have groundtruth.\n",
      "Exception: [Errno 2] No such file or directory: 'data/CatC/533/1287.t7'\n",
      "Do not have groundtruth.\n",
      "Exception: [Errno 2] No such file or directory: 'data/CatC/533/1288.t7'\n",
      "Do not have groundtruth.\n",
      "Exception: [Errno 2] No such file or directory: 'data/CatC/533/1289.t7'\n",
      "Do not have groundtruth.\n",
      "Exception: [Errno 2] No such file or directory: 'data/CatC/533/1290.t7'\n",
      "Do not have groundtruth.\n",
      "Exception: [Errno 2] No such file or directory: 'data/CatC/533/1291.t7'\n",
      "Do not have groundtruth.\n",
      "Exception: [Errno 2] No such file or directory: 'data/CatC/533/1292.t7'\n",
      "Do not have groundtruth.\n",
      "Exception: [Errno 2] No such file or directory: 'data/CatC/533/1293.t7'\n",
      "Do not have groundtruth.\n",
      "Exception: [Errno 2] No such file or directory: 'data/CatC/533/1294.t7'\n",
      "Do not have groundtruth.\n",
      "Exception: [Errno 2] No such file or directory: 'data/CatC/533/1295.t7'\n",
      "Do not have groundtruth.\n",
      "Exception: [Errno 2] No such file or directory: 'data/CatC/533/1296.t7'\n",
      "Do not have groundtruth.\n",
      "Exception: [Errno 2] No such file or directory: 'data/CatC/533/1297.t7'\n",
      "Do not have groundtruth.\n",
      "Exception: [Errno 2] No such file or directory: 'data/CatC/533/1298.t7'\n",
      "Do not have groundtruth.\n",
      "Exception: [Errno 2] No such file or directory: 'data/CatC/533/1299.t7'\n",
      "Do not have groundtruth.\n",
      "Exception: [Errno 2] No such file or directory: 'data/CatC/533/1300.t7'\n",
      "Do not have groundtruth.\n",
      "Exception: [Errno 2] No such file or directory: 'data/CatC/533/1301.t7'\n",
      "Do not have groundtruth.\n",
      "Exception: [Errno 2] No such file or directory: 'data/CatC/533/1302.t7'\n",
      "Do not have groundtruth.\n",
      "Exception: [Errno 2] No such file or directory: 'data/CatC/533/1303.t7'\n",
      "Do not have groundtruth.\n",
      "Exception: [Errno 2] No such file or directory: 'data/CatC/533/1304.t7'\n",
      "Do not have groundtruth.\n",
      "Exception: [Errno 2] No such file or directory: 'data/CatC/533/1305.t7'\n",
      "Do not have groundtruth.\n",
      "Exception: [Errno 2] No such file or directory: 'data/CatC/533/1306.t7'\n",
      "Do not have groundtruth.\n",
      "Exception: [Errno 2] No such file or directory: 'data/CatC/533/1307.t7'\n",
      "Do not have groundtruth.\n",
      "Exception: [Errno 2] No such file or directory: 'data/CatC/533/1308.t7'\n",
      "Do not have groundtruth.\n",
      "Exception: [Errno 2] No such file or directory: 'data/CatC/533/1309.t7'\n",
      "Do not have groundtruth.\n",
      "Exception: [Errno 2] No such file or directory: 'data/CatC/533/1310.t7'\n",
      "Do not have groundtruth.\n",
      "Exception: [Errno 2] No such file or directory: 'data/CatC/533/1311.t7'\n",
      "Do not have groundtruth.\n",
      "Exception: [Errno 2] No such file or directory: 'data/CatC/533/1312.t7'\n",
      "Do not have groundtruth.\n",
      "Exception: [Errno 2] No such file or directory: 'data/CatC/533/1313.t7'\n",
      "Do not have groundtruth.\n",
      "Exception: [Errno 2] No such file or directory: 'data/CatC/533/1314.t7'\n",
      "Do not have groundtruth.\n",
      "Exception: [Errno 2] No such file or directory: 'data/CatC/533/1315.t7'\n",
      "Do not have groundtruth.\n",
      "Exception: [Errno 2] No such file or directory: 'data/CatC/533/1316.t7'\n",
      "Do not have groundtruth.\n",
      "Exception: [Errno 2] No such file or directory: 'data/CatC/533/1317.t7'\n",
      "Do not have groundtruth.\n",
      "Exception: [Errno 2] No such file or directory: 'data/CatC/533/1318.t7'\n",
      "Do not have groundtruth.\n",
      "Exception: [Errno 2] No such file or directory: 'data/CatC/533/1319.t7'\n",
      "Do not have groundtruth.\n",
      "Exception: [Errno 2] No such file or directory: 'data/CatC/533/1320.t7'\n",
      "Do not have groundtruth.\n",
      "Exception: [Errno 2] No such file or directory: 'data/CatC/533/1321.t7'\n",
      "Do not have groundtruth.\n",
      "Exception: [Errno 2] No such file or directory: 'data/CatC/533/1322.t7'\n",
      "Do not have groundtruth.\n",
      "Exception: [Errno 2] No such file or directory: 'data/CatC/533/1323.t7'\n",
      "Do not have groundtruth.\n",
      "Exception: [Errno 2] No such file or directory: 'data/CatC/533/1324.t7'\n",
      "Do not have groundtruth.\n",
      "Exception: [Errno 2] No such file or directory: 'data/CatC/533/1325.t7'\n"
     ]
    },
    {
     "name": "stderr",
     "output_type": "stream",
     "text": [
      "20279it [04:31, 103.66it/s]"
     ]
    },
    {
     "name": "stdout",
     "output_type": "stream",
     "text": [
      "Do not have groundtruth.\n",
      "Exception: [Errno 2] No such file or directory: 'data/CatC/533/1385.t7'\n",
      "Do not have groundtruth.\n",
      "Exception: [Errno 2] No such file or directory: 'data/CatC/533/1387.t7'\n"
     ]
    },
    {
     "name": "stderr",
     "output_type": "stream",
     "text": [
      "20335it [04:32, 81.15it/s]"
     ]
    },
    {
     "name": "stdout",
     "output_type": "stream",
     "text": [
      "Do not have groundtruth.\n",
      "Exception: [Errno 2] No such file or directory: 'data/CatC/533/1421.t7'\n",
      "Do not have groundtruth.\n",
      "Exception: [Errno 2] No such file or directory: 'data/CatC/533/1423.t7'\n",
      "Do not have groundtruth.\n",
      "Exception: [Errno 2] No such file or directory: 'data/CatC/533/1425.t7'\n",
      "Do not have groundtruth.\n",
      "Exception: [Errno 2] No such file or directory: 'data/CatC/533/1426.t7'\n",
      "Do not have groundtruth.\n",
      "Exception: [Errno 2] No such file or directory: 'data/CatC/533/1428.t7'\n",
      "Do not have groundtruth.\n",
      "Exception: [Errno 2] No such file or directory: 'data/CatC/533/1431.t7'\n"
     ]
    },
    {
     "name": "stderr",
     "output_type": "stream",
     "text": [
      "20354it [04:32, 80.14it/s]"
     ]
    },
    {
     "name": "stdout",
     "output_type": "stream",
     "text": [
      "Do not have groundtruth.\n",
      "Exception: [Errno 2] No such file or directory: 'data/CatC/533/1446.t7'\n"
     ]
    },
    {
     "name": "stderr",
     "output_type": "stream",
     "text": [
      "20383it [04:33, 74.13it/s]"
     ]
    },
    {
     "name": "stdout",
     "output_type": "stream",
     "text": [
      "Do not have groundtruth.\n",
      "Exception: [Errno 2] No such file or directory: 'data/CatC/533/1464.t7'\n",
      "Do not have groundtruth.\n",
      "Exception: [Errno 2] No such file or directory: 'data/CatC/533/1465.t7'\n",
      "Do not have groundtruth.\n",
      "Exception: [Errno 2] No such file or directory: 'data/CatC/533/1466.t7'\n",
      "Do not have groundtruth.\n",
      "Exception: [Errno 2] No such file or directory: 'data/CatC/533/1476.t7'\n",
      "Do not have groundtruth.\n",
      "Exception: [Errno 2] No such file or directory: 'data/CatC/533/1477.t7'\n"
     ]
    },
    {
     "name": "stderr",
     "output_type": "stream",
     "text": [
      "20395it [04:33, 76.46it/s]"
     ]
    },
    {
     "name": "stdout",
     "output_type": "stream",
     "text": [
      "Do not have groundtruth.\n",
      "Exception: [Errno 2] No such file or directory: 'data/CatC/533/1483.t7'\n",
      "Do not have groundtruth.\n",
      "Exception: [Errno 2] No such file or directory: 'data/CatC/533/1488.t7'\n"
     ]
    },
    {
     "name": "stderr",
     "output_type": "stream",
     "text": [
      "20614it [04:36, 84.74it/s]"
     ]
    },
    {
     "name": "stdout",
     "output_type": "stream",
     "text": [
      "Do not have groundtruth.\n",
      "Exception: [Errno 2] No such file or directory: 'data/CatC/557/0178.t7'\n"
     ]
    },
    {
     "name": "stderr",
     "output_type": "stream",
     "text": [
      "20872it [04:39, 105.77it/s]"
     ]
    },
    {
     "name": "stdout",
     "output_type": "stream",
     "text": [
      "Do not have groundtruth.\n",
      "Exception: [Errno 2] No such file or directory: 'data/CatC/557/0414.t7'\n",
      "Do not have groundtruth.\n",
      "Exception: [Errno 2] No such file or directory: 'data/CatC/557/0415.t7'\n",
      "Do not have groundtruth.\n",
      "Exception: [Errno 2] No such file or directory: 'data/CatC/557/0416.t7'\n",
      "Do not have groundtruth.\n",
      "Exception: [Errno 2] No such file or directory: 'data/CatC/557/0417.t7'\n",
      "Do not have groundtruth.\n",
      "Exception: [Errno 2] No such file or directory: 'data/CatC/557/0418.t7'\n",
      "Do not have groundtruth.\n",
      "Exception: [Errno 2] No such file or directory: 'data/CatC/557/0419.t7'\n",
      "Do not have groundtruth.\n",
      "Exception: [Errno 2] No such file or directory: 'data/CatC/557/0420.t7'\n",
      "Do not have groundtruth.\n",
      "Exception: [Errno 2] No such file or directory: 'data/CatC/557/0421.t7'\n",
      "Do not have groundtruth.\n",
      "Exception: [Errno 2] No such file or directory: 'data/CatC/557/0422.t7'\n",
      "Do not have groundtruth.\n",
      "Exception: [Errno 2] No such file or directory: 'data/CatC/557/0423.t7'\n",
      "Do not have groundtruth.\n",
      "Exception: [Errno 2] No such file or directory: 'data/CatC/557/0424.t7'\n",
      "Do not have groundtruth.\n",
      "Exception: [Errno 2] No such file or directory: 'data/CatC/557/0425.t7'\n",
      "Do not have groundtruth.\n",
      "Exception: [Errno 2] No such file or directory: 'data/CatC/557/0426.t7'\n",
      "Do not have groundtruth.\n",
      "Exception: [Errno 2] No such file or directory: 'data/CatC/557/0427.t7'\n",
      "Do not have groundtruth.\n",
      "Exception: [Errno 2] No such file or directory: 'data/CatC/557/0428.t7'\n",
      "Do not have groundtruth.\n",
      "Exception: [Errno 2] No such file or directory: 'data/CatC/557/0429.t7'\n",
      "Do not have groundtruth.\n",
      "Exception: [Errno 2] No such file or directory: 'data/CatC/557/0430.t7'\n",
      "Do not have groundtruth.\n",
      "Exception: [Errno 2] No such file or directory: 'data/CatC/557/0431.t7'\n",
      "Do not have groundtruth.\n",
      "Exception: [Errno 2] No such file or directory: 'data/CatC/557/0432.t7'\n",
      "Do not have groundtruth.\n",
      "Exception: [Errno 2] No such file or directory: 'data/CatC/557/0433.t7'\n",
      "Do not have groundtruth.\n",
      "Exception: [Errno 2] No such file or directory: 'data/CatC/557/0434.t7'\n"
     ]
    },
    {
     "name": "stderr",
     "output_type": "stream",
     "text": [
      "21628it [04:48, 66.37it/s]"
     ]
    },
    {
     "name": "stdout",
     "output_type": "stream",
     "text": [
      "Do not have groundtruth.\n",
      "Exception: [Errno 2] No such file or directory: 'data/CatC/557/1183.t7'\n",
      "Do not have groundtruth.\n",
      "Exception: [Errno 2] No such file or directory: 'data/CatC/557/1185.t7'\n",
      "Do not have groundtruth.\n",
      "Exception: [Errno 2] No such file or directory: 'data/CatC/557/1186.t7'\n",
      "Do not have groundtruth.\n",
      "Exception: [Errno 2] No such file or directory: 'data/CatC/557/1187.t7'\n"
     ]
    },
    {
     "name": "stderr",
     "output_type": "stream",
     "text": [
      "21789it [04:50, 99.70it/s]"
     ]
    },
    {
     "name": "stdout",
     "output_type": "stream",
     "text": [
      "Do not have groundtruth.\n",
      "Exception: [Errno 2] No such file or directory: 'data/CatC/557/1310.t7'\n",
      "Do not have groundtruth.\n",
      "Exception: [Errno 2] No such file or directory: 'data/CatC/557/1311.t7'\n",
      "Do not have groundtruth.\n",
      "Exception: [Errno 2] No such file or directory: 'data/CatC/557/1312.t7'\n",
      "Do not have groundtruth.\n",
      "Exception: [Errno 2] No such file or directory: 'data/CatC/557/1313.t7'\n",
      "Do not have groundtruth.\n",
      "Exception: [Errno 2] No such file or directory: 'data/CatC/557/1314.t7'\n",
      "Do not have groundtruth.\n",
      "Exception: [Errno 2] No such file or directory: 'data/CatC/557/1315.t7'\n",
      "Do not have groundtruth.\n",
      "Exception: [Errno 2] No such file or directory: 'data/CatC/557/1316.t7'\n",
      "Do not have groundtruth.\n",
      "Exception: [Errno 2] No such file or directory: 'data/CatC/557/1317.t7'\n",
      "Do not have groundtruth.\n",
      "Exception: [Errno 2] No such file or directory: 'data/CatC/557/1318.t7'\n",
      "Do not have groundtruth.\n",
      "Exception: [Errno 2] No such file or directory: 'data/CatC/557/1319.t7'\n",
      "Do not have groundtruth.\n",
      "Exception: [Errno 2] No such file or directory: 'data/CatC/557/1320.t7'\n",
      "Do not have groundtruth.\n",
      "Exception: [Errno 2] No such file or directory: 'data/CatC/557/1321.t7'\n",
      "Do not have groundtruth.\n",
      "Exception: [Errno 2] No such file or directory: 'data/CatC/557/1322.t7'\n",
      "Do not have groundtruth.\n",
      "Exception: [Errno 2] No such file or directory: 'data/CatC/557/1323.t7'\n",
      "Do not have groundtruth.\n",
      "Exception: [Errno 2] No such file or directory: 'data/CatC/557/1324.t7'\n",
      "Do not have groundtruth.\n",
      "Exception: [Errno 2] No such file or directory: 'data/CatC/557/1325.t7'\n",
      "Do not have groundtruth.\n",
      "Exception: [Errno 2] No such file or directory: 'data/CatC/557/1326.t7'\n",
      "Do not have groundtruth.\n",
      "Exception: [Errno 2] No such file or directory: 'data/CatC/557/1327.t7'\n",
      "Do not have groundtruth.\n",
      "Exception: [Errno 2] No such file or directory: 'data/CatC/557/1328.t7'\n",
      "Do not have groundtruth.\n",
      "Exception: [Errno 2] No such file or directory: 'data/CatC/557/1329.t7'\n",
      "Do not have groundtruth.\n",
      "Exception: [Errno 2] No such file or directory: 'data/CatC/557/1330.t7'\n",
      "Do not have groundtruth.\n",
      "Exception: [Errno 2] No such file or directory: 'data/CatC/557/1331.t7'\n",
      "Do not have groundtruth.\n",
      "Exception: [Errno 2] No such file or directory: 'data/CatC/557/1332.t7'\n",
      "Do not have groundtruth.\n",
      "Exception: [Errno 2] No such file or directory: 'data/CatC/557/1333.t7'\n",
      "Do not have groundtruth.\n",
      "Exception: [Errno 2] No such file or directory: 'data/CatC/557/1334.t7'\n",
      "Do not have groundtruth.\n",
      "Exception: [Errno 2] No such file or directory: 'data/CatC/557/1335.t7'\n",
      "Do not have groundtruth.\n",
      "Exception: [Errno 2] No such file or directory: 'data/CatC/557/1336.t7'\n",
      "Do not have groundtruth.\n",
      "Exception: [Errno 2] No such file or directory: 'data/CatC/557/1337.t7'\n",
      "Do not have groundtruth.\n",
      "Exception: [Errno 2] No such file or directory: 'data/CatC/557/1338.t7'\n",
      "Do not have groundtruth.\n",
      "Exception: [Errno 2] No such file or directory: 'data/CatC/557/1339.t7'\n",
      "Do not have groundtruth.\n",
      "Exception: [Errno 2] No such file or directory: 'data/CatC/557/1340.t7'\n",
      "Do not have groundtruth.\n",
      "Exception: [Errno 2] No such file or directory: 'data/CatC/557/1341.t7'\n",
      "Do not have groundtruth.\n",
      "Exception: [Errno 2] No such file or directory: 'data/CatC/557/1342.t7'\n",
      "Do not have groundtruth.\n",
      "Exception: [Errno 2] No such file or directory: 'data/CatC/557/1343.t7'\n",
      "Do not have groundtruth.\n",
      "Exception: [Errno 2] No such file or directory: 'data/CatC/557/1344.t7'\n",
      "Do not have groundtruth.\n",
      "Exception: [Errno 2] No such file or directory: 'data/CatC/557/1345.t7'\n",
      "Do not have groundtruth.\n",
      "Exception: [Errno 2] No such file or directory: 'data/CatC/557/1346.t7'\n",
      "Do not have groundtruth.\n",
      "Exception: [Errno 2] No such file or directory: 'data/CatC/557/1347.t7'\n",
      "Do not have groundtruth.\n",
      "Exception: [Errno 2] No such file or directory: 'data/CatC/557/1348.t7'\n",
      "Do not have groundtruth.\n",
      "Exception: [Errno 2] No such file or directory: 'data/CatC/557/1349.t7'\n",
      "Do not have groundtruth.\n",
      "Exception: [Errno 2] No such file or directory: 'data/CatC/557/1350.t7'\n",
      "Do not have groundtruth.\n",
      "Exception: [Errno 2] No such file or directory: 'data/CatC/557/1351.t7'\n",
      "Do not have groundtruth.\n",
      "Exception: [Errno 2] No such file or directory: 'data/CatC/557/1356.t7'\n",
      "Do not have groundtruth.\n",
      "Exception: [Errno 2] No such file or directory: 'data/CatC/557/1357.t7'\n"
     ]
    },
    {
     "name": "stderr",
     "output_type": "stream",
     "text": [
      "21970it [04:52, 88.67it/s]"
     ]
    },
    {
     "name": "stdout",
     "output_type": "stream",
     "text": [
      "Do not have groundtruth.\n",
      "Exception: [Errno 2] No such file or directory: 'data/CatC/557/1530.t7'\n",
      "Do not have groundtruth.\n",
      "Exception: [Errno 2] No such file or directory: 'data/CatC/557/1531.t7'\n",
      "Do not have groundtruth.\n",
      "Exception: [Errno 2] No such file or directory: 'data/CatC/557/1533.t7'\n",
      "Do not have groundtruth.\n",
      "Exception: [Errno 2] No such file or directory: 'data/CatC/557/1535.t7'\n",
      "Do not have groundtruth.\n",
      "Exception: [Errno 2] No such file or directory: 'data/CatC/557/1536.t7'\n",
      "Do not have groundtruth.\n",
      "Exception: [Errno 2] No such file or directory: 'data/CatC/557/1537.t7'\n"
     ]
    },
    {
     "name": "stderr",
     "output_type": "stream",
     "text": [
      "22084it [04:54, 86.25it/s]"
     ]
    },
    {
     "name": "stdout",
     "output_type": "stream",
     "text": [
      "Do not have groundtruth.\n",
      "Exception: [Errno 2] No such file or directory: 'data/CatC/557/1635.t7'\n",
      "Do not have groundtruth.\n",
      "Exception: [Errno 2] No such file or directory: 'data/CatC/557/1636.t7'\n",
      "Do not have groundtruth.\n",
      "Exception: [Errno 2] No such file or directory: 'data/CatC/557/1637.t7'\n",
      "Do not have groundtruth.\n",
      "Exception: [Errno 2] No such file or directory: 'data/CatC/557/1638.t7'\n",
      "Do not have groundtruth.\n",
      "Exception: [Errno 2] No such file or directory: 'data/CatC/557/1639.t7'\n",
      "Do not have groundtruth.\n",
      "Exception: [Errno 2] No such file or directory: 'data/CatC/557/1640.t7'\n",
      "Do not have groundtruth.\n",
      "Exception: [Errno 2] No such file or directory: 'data/CatC/557/1641.t7'\n",
      "Do not have groundtruth.\n",
      "Exception: [Errno 2] No such file or directory: 'data/CatC/557/1642.t7'\n",
      "Do not have groundtruth.\n",
      "Exception: [Errno 2] No such file or directory: 'data/CatC/557/1643.t7'\n",
      "Do not have groundtruth.\n",
      "Exception: [Errno 2] No such file or directory: 'data/CatC/557/1644.t7'\n",
      "Do not have groundtruth.\n",
      "Exception: [Errno 2] No such file or directory: 'data/CatC/557/1645.t7'\n",
      "Do not have groundtruth.\n",
      "Exception: [Errno 2] No such file or directory: 'data/CatC/557/1646.t7'\n"
     ]
    },
    {
     "name": "stderr",
     "output_type": "stream",
     "text": [
      "22151it [04:54, 106.02it/s]"
     ]
    },
    {
     "name": "stdout",
     "output_type": "stream",
     "text": [
      "Do not have groundtruth.\n",
      "Exception: [Errno 2] No such file or directory: 'data/CatC/557/1681.t7'\n",
      "Do not have groundtruth.\n",
      "Exception: [Errno 2] No such file or directory: 'data/CatC/557/1682.t7'\n",
      "Do not have groundtruth.\n",
      "Exception: [Errno 2] No such file or directory: 'data/CatC/557/1683.t7'\n",
      "Do not have groundtruth.\n",
      "Exception: [Errno 2] No such file or directory: 'data/CatC/557/1684.t7'\n",
      "Do not have groundtruth.\n",
      "Exception: [Errno 2] No such file or directory: 'data/CatC/557/1685.t7'\n",
      "Do not have groundtruth.\n",
      "Exception: [Errno 2] No such file or directory: 'data/CatC/557/1686.t7'\n",
      "Do not have groundtruth.\n",
      "Exception: [Errno 2] No such file or directory: 'data/CatC/557/1687.t7'\n",
      "Do not have groundtruth.\n",
      "Exception: [Errno 2] No such file or directory: 'data/CatC/557/1688.t7'\n",
      "Do not have groundtruth.\n",
      "Exception: [Errno 2] No such file or directory: 'data/CatC/557/1689.t7'\n",
      "Do not have groundtruth.\n",
      "Exception: [Errno 2] No such file or directory: 'data/CatC/557/1690.t7'\n",
      "Do not have groundtruth.\n",
      "Exception: [Errno 2] No such file or directory: 'data/CatC/557/1691.t7'\n",
      "Do not have groundtruth.\n",
      "Exception: [Errno 2] No such file or directory: 'data/CatC/557/1692.t7'\n",
      "Do not have groundtruth.\n",
      "Exception: [Errno 2] No such file or directory: 'data/CatC/557/1693.t7'\n",
      "Do not have groundtruth.\n",
      "Exception: [Errno 2] No such file or directory: 'data/CatC/557/1694.t7'\n",
      "Do not have groundtruth.\n",
      "Exception: [Errno 2] No such file or directory: 'data/CatC/557/1695.t7'\n",
      "Do not have groundtruth.\n",
      "Exception: [Errno 2] No such file or directory: 'data/CatC/557/1696.t7'\n",
      "Do not have groundtruth.\n",
      "Exception: [Errno 2] No such file or directory: 'data/CatC/557/1697.t7'\n",
      "Do not have groundtruth.\n",
      "Exception: [Errno 2] No such file or directory: 'data/CatC/557/1698.t7'\n",
      "Do not have groundtruth.\n",
      "Exception: [Errno 2] No such file or directory: 'data/CatC/557/1699.t7'\n",
      "Do not have groundtruth.\n",
      "Exception: [Errno 2] No such file or directory: 'data/CatC/557/1700.t7'\n",
      "Do not have groundtruth.\n",
      "Exception: [Errno 2] No such file or directory: 'data/CatC/557/1702.t7'\n",
      "Do not have groundtruth.\n",
      "Exception: [Errno 2] No such file or directory: 'data/CatC/557/1703.t7'\n",
      "Do not have groundtruth.\n",
      "Exception: [Errno 2] No such file or directory: 'data/CatC/557/1704.t7'\n",
      "Do not have groundtruth.\n",
      "Exception: [Errno 2] No such file or directory: 'data/CatC/557/1709.t7'\n",
      "Do not have groundtruth.\n",
      "Exception: [Errno 2] No such file or directory: 'data/CatC/557/1710.t7'\n",
      "Do not have groundtruth.\n",
      "Exception: [Errno 2] No such file or directory: 'data/CatC/557/1711.t7'\n",
      "Do not have groundtruth.\n",
      "Exception: [Errno 2] No such file or directory: 'data/CatC/557/1712.t7'\n",
      "Do not have groundtruth.\n",
      "Exception: [Errno 2] No such file or directory: 'data/CatC/557/1713.t7'\n",
      "Do not have groundtruth.\n",
      "Exception: [Errno 2] No such file or directory: 'data/CatC/557/1714.t7'\n"
     ]
    },
    {
     "name": "stderr",
     "output_type": "stream",
     "text": [
      "25797it [05:44, 71.40it/s]"
     ]
    },
    {
     "name": "stdout",
     "output_type": "stream",
     "text": [
      "Do not have groundtruth.\n",
      "Exception: [Errno 2] No such file or directory: 'data/CatC/559/1504.t7'\n",
      "Do not have groundtruth.\n",
      "Exception: [Errno 2] No such file or directory: 'data/CatC/559/1507.t7'\n"
     ]
    },
    {
     "name": "stderr",
     "output_type": "stream",
     "text": [
      "26463it [05:53, 88.72it/s]"
     ]
    },
    {
     "name": "stdout",
     "output_type": "stream",
     "text": [
      "Do not have groundtruth.\n",
      "Exception: [Errno 2] No such file or directory: 'data/CatC/562/0125.t7'\n",
      "Do not have groundtruth.\n",
      "Exception: [Errno 2] No such file or directory: 'data/CatC/562/0126.t7'\n",
      "Do not have groundtruth.\n",
      "Exception: [Errno 2] No such file or directory: 'data/CatC/562/0127.t7'\n",
      "Do not have groundtruth.\n",
      "Exception: [Errno 2] No such file or directory: 'data/CatC/562/0128.t7'\n"
     ]
    },
    {
     "name": "stderr",
     "output_type": "stream",
     "text": [
      "27687it [06:08, 75.09it/s]\n"
     ]
    },
    {
     "name": "stdout",
     "output_type": "stream",
     "text": [
      "                  Dataset |  AUC  | Mean NME | StD NME\n",
      "                 Menpo-3D | 71.97 |    1.96  |  1.72\n",
      "          300W-Testset-3D | 78.89 |    1.43  |  0.42\n",
      "  AFLW2000-3D-Reannotated | 74.22 |    1.86  |  2.46\n",
      "              AFLW2000-3D | 62.47 |    2.71  |  2.59\n",
      "                  300VW-A | 73.52 |    1.93  |  2.12\n",
      "                  300VW-B | 74.63 |    1.94  |  2.70\n",
      "                  300VW-C | 61.78 |    2.93  |  3.48\n"
     ]
    }
   ],
   "source": [
    "out_pred_folder = 'out/'\n",
    "\n",
    "db_eval = {\n",
    "    \"Menpo-3D\": 'data/Menpo-3D/',\n",
    "    '300W-Testset-3D': \"data/300W-Testset-3D/\",\n",
    "    'AFLW2000-3D-Reannotated': \"data/AFLW2000-3D-Reannotated/\",\n",
    "    'AFLW2000-3D': \"data/AFLW2000/\",\n",
    "    '300VW-3D-CatA': \"data/CatA/\",\n",
    "    '300VW-3D-CatB': \"data/CatB/\",\n",
    "    '300VW-3D-CatC': \"data/CatC/\",\n",
    "}\n",
    "\n",
    "if not isdir('results/HGFPN'):\n",
    "    makedirs('results/HGFPN')\n",
    "aucs, mean_nmes, std_nmes = dict(), dict(), dict()\n",
    "for dbkey, folder in db_eval.items():\n",
    "    print(\"Dataset:\", dbkey)\n",
    "    is_mat = True if dbkey == 'AFLW2000-3D' else False \n",
    "    gt_folder = db_eval[dbkey]\n",
    "    scores = None\n",
    "    pred_folder = join(out_pred_folder, dbkey)\n",
    "    suffix = ['.jpg', '.png']\n",
    "    files = [\n",
    "        os.path.join(dirpath, filename)\n",
    "        for dirpath, dirnames, filenames in os.walk(gt_folder)\n",
    "        for filename in filenames if filename[-4:] in suffix\n",
    "    ]\n",
    "    files.sort()\n",
    "    try:\n",
    "        with gzip.open(join(pred_folder, \"all_pred.zip\"), 'rb') as f:\n",
    "            buffer = f.read()\n",
    "        full_landmarks = pickle.loads(buffer)\n",
    "    except Exception as e:\n",
    "        print(\"Do not have file.\")\n",
    "        print(\"Exception: \", e)\n",
    "        continue\n",
    "\n",
    "    dists = None\n",
    "    for nframe, imfile in tqdm(enumerate(files)):\n",
    "        pts_file = imfile\n",
    "        if is_mat:\n",
    "            try:\n",
    "                pts_file = imfile[:-4] + '.mat'\n",
    "                gt = sio.loadmat(pts_file)['pt3d_68']\n",
    "                groundtruth = gt.T[:,:2]\n",
    "            except Exception as e:\n",
    "                # print(\"Do not have groundtruth.\")\n",
    "                continue\n",
    "        else:\n",
    "            for file_type in suffix:\n",
    "                pts_file = pts_file.replace(file_type, '.t7')\n",
    "            try:\n",
    "                groundtruth = torchfile.load(pts_file)\n",
    "                landmarks = full_landmarks[imfile]\n",
    "            except Exception as e:\n",
    "                # print(\"Do not have groundtruth.\")\n",
    "                # print(\"Exception:\", e)\n",
    "                continue\n",
    "        landmarks = full_landmarks[imfile]\n",
    "    \n",
    "        dist = calcDistance(landmarks, groundtruth)\n",
    "        dist = dist.reshape((68, 1))\n",
    "#         if np.mean(dist) < 0.01: # > 0.3\n",
    "#             print(imfile)\n",
    "        if dists is None:\n",
    "            dists = dist\n",
    "        else:\n",
    "            dists = np.append(dists, dist, axis=1)\n",
    "    scores = dists\n",
    "    aucs[dbkey], mean_nmes[dbkey], std_nmes[dbkey] = calculateMetrics(dists, error_np='results/HGFPN/%s.npy' % dbkey)"
   ]
  },
  {
   "cell_type": "code",
   "execution_count": 3,
   "metadata": {},
   "outputs": [
    {
     "name": "stdout",
     "output_type": "stream",
     "text": [
      "                  Dataset |  AUC  | Mean NME | StD NME\n",
      "                 Menpo-3D | 71.97 |    1.96  |  1.72\n",
      "          300W-Testset-3D | 78.89 |    1.43  |  0.42\n",
      "  AFLW2000-3D-Reannotated | 74.22 |    1.86  |  2.46\n",
      "              AFLW2000-3D | 62.47 |    2.71  |  2.59\n",
      "                  300VW-A | 73.52 |    1.93  |  2.12\n",
      "                  300VW-B | 74.63 |    1.94  |  2.70\n",
      "                  300VW-C | 61.78 |    2.93  |  3.48\n"
     ]
    }
   ],
   "source": [
    "str_format = \"%25s | %5.2f |   %5.2f  | %5.2f\"\n",
    "print(\"%25s |  AUC  | Mean NME | StD NME\" % \"Dataset\")\n",
    "for dbkey in db_eval.keys():\n",
    "    print(str_format %(dbkey, aucs[dbkey] * 100, mean_nmes[dbkey] * 100, std_nmes[dbkey] * 100))"
   ]
  },
  {
   "cell_type": "code",
   "execution_count": null,
   "metadata": {},
   "outputs": [],
   "source": []
  }
 ],
 "metadata": {
  "kernelspec": {
   "display_name": "Python 3",
   "language": "python",
   "name": "python3"
  },
  "language_info": {
   "codemirror_mode": {
    "name": "ipython",
    "version": 3
   },
   "file_extension": ".py",
   "mimetype": "text/x-python",
   "name": "python",
   "nbconvert_exporter": "python",
   "pygments_lexer": "ipython3",
   "version": "3.6.8"
  },
  "toc": {
   "base_numbering": 1,
   "nav_menu": {
    "height": "229px",
    "width": "276px"
   },
   "number_sections": true,
   "sideBar": true,
   "skip_h1_title": false,
   "title_cell": "Table of Contents",
   "title_sidebar": "Contents",
   "toc_cell": false,
   "toc_position": {
    "height": "calc(100% - 180px)",
    "left": "10px",
    "top": "150px",
    "width": "374px"
   },
   "toc_section_display": true,
   "toc_window_display": true
  }
 },
 "nbformat": 4,
 "nbformat_minor": 2
}
